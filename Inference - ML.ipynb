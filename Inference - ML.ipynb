{
 "cells": [
  {
   "cell_type": "code",
   "execution_count": 9,
   "metadata": {
    "collapsed": true
   },
   "outputs": [],
   "source": [
    "import pandas as pd\n",
    "import numpy as np\n",
    "import matplotlib.pyplot as plt\n",
    "%matplotlib inline\n",
    "\n",
    "from sklearn.model_selection import train_test_split\n",
    "from sklearn.linear_model import LogisticRegression\n",
    "from sklearn.metrics import accuracy_score\n",
    "from sklearn.model_selection import KFold\n",
    "from sklearn.metrics import classification_report, roc_curve, auc, confusion_matrix, accuracy_score, recall_score\n",
    "import time"
   ]
  },
  {
   "cell_type": "code",
   "execution_count": null,
   "metadata": {
    "collapsed": false
   },
   "outputs": [],
   "source": [
    "# import sys\n",
    "# sys.path.append('C:\\\\Users\\\\Nachiket\\\\Documents\\\\Python-useful_packages\\\\Boruta-0.1.5')\n",
    "\n",
    "# from boruta import boruta_py"
   ]
  },
  {
   "cell_type": "markdown",
   "metadata": {},
   "source": [
    "### Import the data"
   ]
  },
  {
   "cell_type": "code",
   "execution_count": 2,
   "metadata": {
    "collapsed": false
   },
   "outputs": [],
   "source": [
    "pd.set_option('display.max_columns', None)\n",
    "df = pd.read_csv(\"clean_data_52_features.csv\",index_col=False)\n",
    "# df = df.drop(['nr.employed'],axis=1)"
   ]
  },
  {
   "cell_type": "code",
   "execution_count": 29,
   "metadata": {
    "collapsed": false
   },
   "outputs": [
    {
     "data": {
      "text/html": [
       "<div>\n",
       "<table border=\"1\" class=\"dataframe\">\n",
       "  <thead>\n",
       "    <tr style=\"text-align: right;\">\n",
       "      <th></th>\n",
       "      <th>age</th>\n",
       "      <th>education</th>\n",
       "      <th>default</th>\n",
       "      <th>housing</th>\n",
       "      <th>loan</th>\n",
       "      <th>contact</th>\n",
       "      <th>campaign</th>\n",
       "      <th>pdays</th>\n",
       "      <th>previous</th>\n",
       "      <th>emp.var.rate</th>\n",
       "      <th>cons.price.idx</th>\n",
       "      <th>cons.conf.idx</th>\n",
       "      <th>euribor3m</th>\n",
       "      <th>nr.employed</th>\n",
       "      <th>y</th>\n",
       "      <th>pdayscat</th>\n",
       "      <th>campcat</th>\n",
       "      <th>poutcome_failure</th>\n",
       "      <th>poutcome_nonexistent</th>\n",
       "      <th>poutcome_success</th>\n",
       "      <th>job_admin.</th>\n",
       "      <th>job_blue-collar</th>\n",
       "      <th>job_entrepreneur</th>\n",
       "      <th>job_housemaid</th>\n",
       "      <th>job_management</th>\n",
       "      <th>job_retired</th>\n",
       "      <th>job_self-employed</th>\n",
       "      <th>job_services</th>\n",
       "      <th>job_student</th>\n",
       "      <th>job_technician</th>\n",
       "      <th>job_unemployed</th>\n",
       "      <th>marital_divorced</th>\n",
       "      <th>marital_married</th>\n",
       "      <th>marital_single</th>\n",
       "      <th>month_apr</th>\n",
       "      <th>month_aug</th>\n",
       "      <th>month_dec</th>\n",
       "      <th>month_jul</th>\n",
       "      <th>month_jun</th>\n",
       "      <th>month_mar</th>\n",
       "      <th>month_may</th>\n",
       "      <th>month_nov</th>\n",
       "      <th>month_oct</th>\n",
       "      <th>month_sep</th>\n",
       "      <th>day_of_week_fri</th>\n",
       "      <th>day_of_week_mon</th>\n",
       "      <th>day_of_week_thu</th>\n",
       "      <th>day_of_week_tue</th>\n",
       "      <th>day_of_week_wed</th>\n",
       "      <th>agecat_adult</th>\n",
       "      <th>agecat_senior</th>\n",
       "      <th>agecat_young</th>\n",
       "    </tr>\n",
       "  </thead>\n",
       "  <tbody>\n",
       "    <tr>\n",
       "      <th>0</th>\n",
       "      <td>56</td>\n",
       "      <td>2.0</td>\n",
       "      <td>0.0</td>\n",
       "      <td>0.0</td>\n",
       "      <td>0.0</td>\n",
       "      <td>1</td>\n",
       "      <td>1</td>\n",
       "      <td>999</td>\n",
       "      <td>0</td>\n",
       "      <td>1.1</td>\n",
       "      <td>93.994</td>\n",
       "      <td>-36.4</td>\n",
       "      <td>4.857</td>\n",
       "      <td>5191.0</td>\n",
       "      <td>0</td>\n",
       "      <td>0.0</td>\n",
       "      <td>1</td>\n",
       "      <td>0</td>\n",
       "      <td>1</td>\n",
       "      <td>0</td>\n",
       "      <td>0</td>\n",
       "      <td>0</td>\n",
       "      <td>0</td>\n",
       "      <td>1</td>\n",
       "      <td>0</td>\n",
       "      <td>0</td>\n",
       "      <td>0</td>\n",
       "      <td>0</td>\n",
       "      <td>0</td>\n",
       "      <td>0</td>\n",
       "      <td>0</td>\n",
       "      <td>0</td>\n",
       "      <td>1</td>\n",
       "      <td>0</td>\n",
       "      <td>0</td>\n",
       "      <td>0</td>\n",
       "      <td>0</td>\n",
       "      <td>0</td>\n",
       "      <td>0</td>\n",
       "      <td>0</td>\n",
       "      <td>1</td>\n",
       "      <td>0</td>\n",
       "      <td>0</td>\n",
       "      <td>0</td>\n",
       "      <td>0</td>\n",
       "      <td>1</td>\n",
       "      <td>0</td>\n",
       "      <td>0</td>\n",
       "      <td>0</td>\n",
       "      <td>1</td>\n",
       "      <td>0</td>\n",
       "      <td>0</td>\n",
       "    </tr>\n",
       "    <tr>\n",
       "      <th>1</th>\n",
       "      <td>37</td>\n",
       "      <td>5.0</td>\n",
       "      <td>0.0</td>\n",
       "      <td>2.0</td>\n",
       "      <td>0.0</td>\n",
       "      <td>1</td>\n",
       "      <td>1</td>\n",
       "      <td>999</td>\n",
       "      <td>0</td>\n",
       "      <td>1.1</td>\n",
       "      <td>93.994</td>\n",
       "      <td>-36.4</td>\n",
       "      <td>4.857</td>\n",
       "      <td>5191.0</td>\n",
       "      <td>0</td>\n",
       "      <td>0.0</td>\n",
       "      <td>1</td>\n",
       "      <td>0</td>\n",
       "      <td>1</td>\n",
       "      <td>0</td>\n",
       "      <td>0</td>\n",
       "      <td>0</td>\n",
       "      <td>0</td>\n",
       "      <td>0</td>\n",
       "      <td>0</td>\n",
       "      <td>0</td>\n",
       "      <td>0</td>\n",
       "      <td>1</td>\n",
       "      <td>0</td>\n",
       "      <td>0</td>\n",
       "      <td>0</td>\n",
       "      <td>0</td>\n",
       "      <td>1</td>\n",
       "      <td>0</td>\n",
       "      <td>0</td>\n",
       "      <td>0</td>\n",
       "      <td>0</td>\n",
       "      <td>0</td>\n",
       "      <td>0</td>\n",
       "      <td>0</td>\n",
       "      <td>1</td>\n",
       "      <td>0</td>\n",
       "      <td>0</td>\n",
       "      <td>0</td>\n",
       "      <td>0</td>\n",
       "      <td>1</td>\n",
       "      <td>0</td>\n",
       "      <td>0</td>\n",
       "      <td>0</td>\n",
       "      <td>1</td>\n",
       "      <td>0</td>\n",
       "      <td>0</td>\n",
       "    </tr>\n",
       "  </tbody>\n",
       "</table>\n",
       "</div>"
      ],
      "text/plain": [
       "   age  education  default  housing  loan  contact  campaign  pdays  previous  \\\n",
       "0   56        2.0      0.0      0.0   0.0        1         1    999         0   \n",
       "1   37        5.0      0.0      2.0   0.0        1         1    999         0   \n",
       "\n",
       "   emp.var.rate  cons.price.idx  cons.conf.idx  euribor3m  nr.employed  y  \\\n",
       "0           1.1          93.994          -36.4      4.857       5191.0  0   \n",
       "1           1.1          93.994          -36.4      4.857       5191.0  0   \n",
       "\n",
       "   pdayscat  campcat  poutcome_failure  poutcome_nonexistent  \\\n",
       "0       0.0        1                 0                     1   \n",
       "1       0.0        1                 0                     1   \n",
       "\n",
       "   poutcome_success  job_admin.  job_blue-collar  job_entrepreneur  \\\n",
       "0                 0           0                0                 0   \n",
       "1                 0           0                0                 0   \n",
       "\n",
       "   job_housemaid  job_management  job_retired  job_self-employed  \\\n",
       "0              1               0            0                  0   \n",
       "1              0               0            0                  0   \n",
       "\n",
       "   job_services  job_student  job_technician  job_unemployed  \\\n",
       "0             0            0               0               0   \n",
       "1             1            0               0               0   \n",
       "\n",
       "   marital_divorced  marital_married  marital_single  month_apr  month_aug  \\\n",
       "0                 0                1               0          0          0   \n",
       "1                 0                1               0          0          0   \n",
       "\n",
       "   month_dec  month_jul  month_jun  month_mar  month_may  month_nov  \\\n",
       "0          0          0          0          0          1          0   \n",
       "1          0          0          0          0          1          0   \n",
       "\n",
       "   month_oct  month_sep  day_of_week_fri  day_of_week_mon  day_of_week_thu  \\\n",
       "0          0          0                0                1                0   \n",
       "1          0          0                0                1                0   \n",
       "\n",
       "   day_of_week_tue  day_of_week_wed  agecat_adult  agecat_senior  agecat_young  \n",
       "0                0                0             1              0             0  \n",
       "1                0                0             1              0             0  "
      ]
     },
     "execution_count": 29,
     "metadata": {},
     "output_type": "execute_result"
    }
   ],
   "source": [
    "df.head(2)"
   ]
  },
  {
   "cell_type": "code",
   "execution_count": 3,
   "metadata": {
    "collapsed": false
   },
   "outputs": [
    {
     "data": {
      "text/html": [
       "<div>\n",
       "<table border=\"1\" class=\"dataframe\">\n",
       "  <thead>\n",
       "    <tr style=\"text-align: right;\">\n",
       "      <th></th>\n",
       "      <th>age</th>\n",
       "      <th>education</th>\n",
       "      <th>default</th>\n",
       "      <th>housing</th>\n",
       "      <th>loan</th>\n",
       "      <th>contact</th>\n",
       "      <th>campaign</th>\n",
       "      <th>pdays</th>\n",
       "      <th>previous</th>\n",
       "      <th>emp.var.rate</th>\n",
       "      <th>cons.price.idx</th>\n",
       "      <th>cons.conf.idx</th>\n",
       "      <th>euribor3m</th>\n",
       "      <th>nr.employed</th>\n",
       "      <th>y</th>\n",
       "      <th>pdayscat</th>\n",
       "      <th>campcat</th>\n",
       "      <th>poutcome_failure</th>\n",
       "      <th>poutcome_nonexistent</th>\n",
       "      <th>poutcome_success</th>\n",
       "      <th>job_admin.</th>\n",
       "      <th>job_blue-collar</th>\n",
       "      <th>job_entrepreneur</th>\n",
       "      <th>job_housemaid</th>\n",
       "      <th>job_management</th>\n",
       "      <th>job_retired</th>\n",
       "      <th>job_self-employed</th>\n",
       "      <th>job_services</th>\n",
       "      <th>job_student</th>\n",
       "      <th>job_technician</th>\n",
       "      <th>job_unemployed</th>\n",
       "      <th>marital_divorced</th>\n",
       "      <th>marital_married</th>\n",
       "      <th>marital_single</th>\n",
       "      <th>month_apr</th>\n",
       "      <th>month_aug</th>\n",
       "      <th>month_dec</th>\n",
       "      <th>month_jul</th>\n",
       "      <th>month_jun</th>\n",
       "      <th>month_mar</th>\n",
       "      <th>month_may</th>\n",
       "      <th>month_nov</th>\n",
       "      <th>month_oct</th>\n",
       "      <th>month_sep</th>\n",
       "      <th>day_of_week_fri</th>\n",
       "      <th>day_of_week_mon</th>\n",
       "      <th>day_of_week_thu</th>\n",
       "      <th>day_of_week_tue</th>\n",
       "      <th>day_of_week_wed</th>\n",
       "      <th>agecat_adult</th>\n",
       "      <th>agecat_senior</th>\n",
       "      <th>agecat_young</th>\n",
       "      <th>centroid1</th>\n",
       "    </tr>\n",
       "  </thead>\n",
       "  <tbody>\n",
       "    <tr>\n",
       "      <th>0</th>\n",
       "      <td>56</td>\n",
       "      <td>2.0</td>\n",
       "      <td>0.0</td>\n",
       "      <td>0.0</td>\n",
       "      <td>0.0</td>\n",
       "      <td>1</td>\n",
       "      <td>1</td>\n",
       "      <td>999</td>\n",
       "      <td>0</td>\n",
       "      <td>1.1</td>\n",
       "      <td>93.994</td>\n",
       "      <td>-36.4</td>\n",
       "      <td>4.857</td>\n",
       "      <td>5191.0</td>\n",
       "      <td>0</td>\n",
       "      <td>0.0</td>\n",
       "      <td>1</td>\n",
       "      <td>0</td>\n",
       "      <td>1</td>\n",
       "      <td>0</td>\n",
       "      <td>0</td>\n",
       "      <td>0</td>\n",
       "      <td>0</td>\n",
       "      <td>1</td>\n",
       "      <td>0</td>\n",
       "      <td>0</td>\n",
       "      <td>0</td>\n",
       "      <td>0</td>\n",
       "      <td>0</td>\n",
       "      <td>0</td>\n",
       "      <td>0</td>\n",
       "      <td>0</td>\n",
       "      <td>1</td>\n",
       "      <td>0</td>\n",
       "      <td>0</td>\n",
       "      <td>0</td>\n",
       "      <td>0</td>\n",
       "      <td>0</td>\n",
       "      <td>0</td>\n",
       "      <td>0</td>\n",
       "      <td>1</td>\n",
       "      <td>0</td>\n",
       "      <td>0</td>\n",
       "      <td>0</td>\n",
       "      <td>0</td>\n",
       "      <td>1</td>\n",
       "      <td>0</td>\n",
       "      <td>0</td>\n",
       "      <td>0</td>\n",
       "      <td>1</td>\n",
       "      <td>0</td>\n",
       "      <td>0</td>\n",
       "      <td>1</td>\n",
       "    </tr>\n",
       "    <tr>\n",
       "      <th>1</th>\n",
       "      <td>37</td>\n",
       "      <td>5.0</td>\n",
       "      <td>0.0</td>\n",
       "      <td>2.0</td>\n",
       "      <td>0.0</td>\n",
       "      <td>1</td>\n",
       "      <td>1</td>\n",
       "      <td>999</td>\n",
       "      <td>0</td>\n",
       "      <td>1.1</td>\n",
       "      <td>93.994</td>\n",
       "      <td>-36.4</td>\n",
       "      <td>4.857</td>\n",
       "      <td>5191.0</td>\n",
       "      <td>0</td>\n",
       "      <td>0.0</td>\n",
       "      <td>1</td>\n",
       "      <td>0</td>\n",
       "      <td>1</td>\n",
       "      <td>0</td>\n",
       "      <td>0</td>\n",
       "      <td>0</td>\n",
       "      <td>0</td>\n",
       "      <td>0</td>\n",
       "      <td>0</td>\n",
       "      <td>0</td>\n",
       "      <td>0</td>\n",
       "      <td>1</td>\n",
       "      <td>0</td>\n",
       "      <td>0</td>\n",
       "      <td>0</td>\n",
       "      <td>0</td>\n",
       "      <td>1</td>\n",
       "      <td>0</td>\n",
       "      <td>0</td>\n",
       "      <td>0</td>\n",
       "      <td>0</td>\n",
       "      <td>0</td>\n",
       "      <td>0</td>\n",
       "      <td>0</td>\n",
       "      <td>1</td>\n",
       "      <td>0</td>\n",
       "      <td>0</td>\n",
       "      <td>0</td>\n",
       "      <td>0</td>\n",
       "      <td>1</td>\n",
       "      <td>0</td>\n",
       "      <td>0</td>\n",
       "      <td>0</td>\n",
       "      <td>1</td>\n",
       "      <td>0</td>\n",
       "      <td>0</td>\n",
       "      <td>2</td>\n",
       "    </tr>\n",
       "  </tbody>\n",
       "</table>\n",
       "</div>"
      ],
      "text/plain": [
       "   age  education  default  housing  loan  contact  campaign  pdays  previous  \\\n",
       "0   56        2.0      0.0      0.0   0.0        1         1    999         0   \n",
       "1   37        5.0      0.0      2.0   0.0        1         1    999         0   \n",
       "\n",
       "   emp.var.rate  cons.price.idx  cons.conf.idx  euribor3m  nr.employed  y  \\\n",
       "0           1.1          93.994          -36.4      4.857       5191.0  0   \n",
       "1           1.1          93.994          -36.4      4.857       5191.0  0   \n",
       "\n",
       "   pdayscat  campcat  poutcome_failure  poutcome_nonexistent  \\\n",
       "0       0.0        1                 0                     1   \n",
       "1       0.0        1                 0                     1   \n",
       "\n",
       "   poutcome_success  job_admin.  job_blue-collar  job_entrepreneur  \\\n",
       "0                 0           0                0                 0   \n",
       "1                 0           0                0                 0   \n",
       "\n",
       "   job_housemaid  job_management  job_retired  job_self-employed  \\\n",
       "0              1               0            0                  0   \n",
       "1              0               0            0                  0   \n",
       "\n",
       "   job_services  job_student  job_technician  job_unemployed  \\\n",
       "0             0            0               0               0   \n",
       "1             1            0               0               0   \n",
       "\n",
       "   marital_divorced  marital_married  marital_single  month_apr  month_aug  \\\n",
       "0                 0                1               0          0          0   \n",
       "1                 0                1               0          0          0   \n",
       "\n",
       "   month_dec  month_jul  month_jun  month_mar  month_may  month_nov  \\\n",
       "0          0          0          0          0          1          0   \n",
       "1          0          0          0          0          1          0   \n",
       "\n",
       "   month_oct  month_sep  day_of_week_fri  day_of_week_mon  day_of_week_thu  \\\n",
       "0          0          0                0                1                0   \n",
       "1          0          0                0                1                0   \n",
       "\n",
       "   day_of_week_tue  day_of_week_wed  agecat_adult  agecat_senior  \\\n",
       "0                0                0             1              0   \n",
       "1                0                0             1              0   \n",
       "\n",
       "   agecat_young  centroid1  \n",
       "0             0          1  \n",
       "1             0          2  "
      ]
     },
     "execution_count": 3,
     "metadata": {},
     "output_type": "execute_result"
    }
   ],
   "source": [
    "centroids = pd.read_csv(\"centroids.csv\")\n",
    "df = pd.concat([df, centroids], axis=1)\n",
    "df.head(2)"
   ]
  },
  {
   "cell_type": "code",
   "execution_count": 20,
   "metadata": {
    "collapsed": false
   },
   "outputs": [
    {
     "name": "stdout",
     "output_type": "stream",
     "text": [
      "11.26% positives in the data\n"
     ]
    }
   ],
   "source": [
    "print ( \"{}% positives in the data\".format(round(len(df.loc[df.y == 1])*100.0/len(df),2)))"
   ]
  },
  {
   "cell_type": "code",
   "execution_count": 5,
   "metadata": {
    "collapsed": false
   },
   "outputs": [],
   "source": [
    "features = df.drop('y',axis=1)"
   ]
  },
  {
   "cell_type": "markdown",
   "metadata": {},
   "source": [
    "### Split the data into training and test sets for final testing"
   ]
  },
  {
   "cell_type": "code",
   "execution_count": 6,
   "metadata": {
    "collapsed": false
   },
   "outputs": [],
   "source": [
    "X, Xtest, y, ytest = train_test_split(features, df['y'],random_state=1,test_size=0.6)"
   ]
  },
  {
   "cell_type": "code",
   "execution_count": 8,
   "metadata": {
    "collapsed": false
   },
   "outputs": [
    {
     "name": "stdout",
     "output_type": "stream",
     "text": [
      "(40787, 24)\n",
      "(28550, 23)\n"
     ]
    }
   ],
   "source": [
    "print(df.shape)\n",
    "print (X.shape)"
   ]
  },
  {
   "cell_type": "code",
   "execution_count": 56,
   "metadata": {
    "collapsed": false
   },
   "outputs": [
    {
     "name": "stdout",
     "output_type": "stream",
     "text": [
      "10.98% positives in the test data\n"
     ]
    }
   ],
   "source": [
    "print ( \"{}% positives in the test data\".format(round(len(ytest.loc[ytest == 1])*100.0/len(ytest),2)))"
   ]
  },
  {
   "cell_type": "markdown",
   "metadata": {},
   "source": [
    "## Normalization"
   ]
  },
  {
   "cell_type": "code",
   "execution_count": 45,
   "metadata": {
    "collapsed": false
   },
   "outputs": [
    {
     "name": "stderr",
     "output_type": "stream",
     "text": [
      "C:\\Users\\Nachiket\\Anaconda3\\lib\\site-packages\\ipykernel\\__main__.py:9: SettingWithCopyWarning: \n",
      "A value is trying to be set on a copy of a slice from a DataFrame.\n",
      "Try using .loc[row_indexer,col_indexer] = value instead\n",
      "\n",
      "See the caveats in the documentation: http://pandas.pydata.org/pandas-docs/stable/indexing.html#indexing-view-versus-copy\n"
     ]
    },
    {
     "data": {
      "text/html": [
       "<div>\n",
       "<table border=\"1\" class=\"dataframe\">\n",
       "  <thead>\n",
       "    <tr style=\"text-align: right;\">\n",
       "      <th></th>\n",
       "      <th>age</th>\n",
       "      <th>job</th>\n",
       "      <th>marital</th>\n",
       "      <th>education</th>\n",
       "      <th>default</th>\n",
       "      <th>housing</th>\n",
       "      <th>loan</th>\n",
       "      <th>contact</th>\n",
       "      <th>month</th>\n",
       "      <th>day_of_week</th>\n",
       "      <th>campaign</th>\n",
       "      <th>pdays</th>\n",
       "      <th>previous</th>\n",
       "      <th>poutcome</th>\n",
       "      <th>emp.var.rate</th>\n",
       "      <th>cons.price.idx</th>\n",
       "      <th>cons.conf.idx</th>\n",
       "      <th>euribor3m</th>\n",
       "      <th>nr.employed</th>\n",
       "      <th>pdayscat</th>\n",
       "      <th>agecat</th>\n",
       "      <th>campcat</th>\n",
       "      <th>centroid1</th>\n",
       "    </tr>\n",
       "  </thead>\n",
       "  <tbody>\n",
       "    <tr>\n",
       "      <th>count</th>\n",
       "      <td>24473.000000</td>\n",
       "      <td>24473.000000</td>\n",
       "      <td>24473.000000</td>\n",
       "      <td>24473.000000</td>\n",
       "      <td>24473.000000</td>\n",
       "      <td>24473.000000</td>\n",
       "      <td>24473.000000</td>\n",
       "      <td>24473.000000</td>\n",
       "      <td>24473.000000</td>\n",
       "      <td>24473.000000</td>\n",
       "      <td>24473.000000</td>\n",
       "      <td>24473.000000</td>\n",
       "      <td>24473.000000</td>\n",
       "      <td>24473.000000</td>\n",
       "      <td>24473.000000</td>\n",
       "      <td>24473.000000</td>\n",
       "      <td>24473.000000</td>\n",
       "      <td>24473.000000</td>\n",
       "      <td>24473.000000</td>\n",
       "      <td>24473.000000</td>\n",
       "      <td>24473.000000</td>\n",
       "      <td>24473.000000</td>\n",
       "      <td>24473.000000</td>\n",
       "    </tr>\n",
       "    <tr>\n",
       "      <th>mean</th>\n",
       "      <td>0.283923</td>\n",
       "      <td>0.369166</td>\n",
       "      <td>0.585911</td>\n",
       "      <td>0.692532</td>\n",
       "      <td>0.000082</td>\n",
       "      <td>0.535447</td>\n",
       "      <td>0.152413</td>\n",
       "      <td>0.363584</td>\n",
       "      <td>0.469433</td>\n",
       "      <td>0.501062</td>\n",
       "      <td>0.037957</td>\n",
       "      <td>0.962107</td>\n",
       "      <td>0.024937</td>\n",
       "      <td>0.466106</td>\n",
       "      <td>0.725752</td>\n",
       "      <td>0.535725</td>\n",
       "      <td>0.430205</td>\n",
       "      <td>0.677454</td>\n",
       "      <td>0.769487</td>\n",
       "      <td>0.038124</td>\n",
       "      <td>0.024680</td>\n",
       "      <td>0.986638</td>\n",
       "      <td>0.542530</td>\n",
       "    </tr>\n",
       "    <tr>\n",
       "      <th>std</th>\n",
       "      <td>0.128404</td>\n",
       "      <td>0.355757</td>\n",
       "      <td>0.302080</td>\n",
       "      <td>0.272923</td>\n",
       "      <td>0.009040</td>\n",
       "      <td>0.498752</td>\n",
       "      <td>0.359428</td>\n",
       "      <td>0.481041</td>\n",
       "      <td>0.258292</td>\n",
       "      <td>0.348854</td>\n",
       "      <td>0.067965</td>\n",
       "      <td>0.190343</td>\n",
       "      <td>0.071512</td>\n",
       "      <td>0.182003</td>\n",
       "      <td>0.326442</td>\n",
       "      <td>0.225093</td>\n",
       "      <td>0.193544</td>\n",
       "      <td>0.392818</td>\n",
       "      <td>0.272711</td>\n",
       "      <td>0.191499</td>\n",
       "      <td>0.138377</td>\n",
       "      <td>0.114820</td>\n",
       "      <td>0.194474</td>\n",
       "    </tr>\n",
       "    <tr>\n",
       "      <th>min</th>\n",
       "      <td>0.000000</td>\n",
       "      <td>0.000000</td>\n",
       "      <td>0.000000</td>\n",
       "      <td>0.000000</td>\n",
       "      <td>0.000000</td>\n",
       "      <td>0.000000</td>\n",
       "      <td>0.000000</td>\n",
       "      <td>0.000000</td>\n",
       "      <td>0.000000</td>\n",
       "      <td>0.000000</td>\n",
       "      <td>0.000000</td>\n",
       "      <td>0.000000</td>\n",
       "      <td>0.000000</td>\n",
       "      <td>0.000000</td>\n",
       "      <td>0.000000</td>\n",
       "      <td>0.000000</td>\n",
       "      <td>0.000000</td>\n",
       "      <td>0.000000</td>\n",
       "      <td>0.000000</td>\n",
       "      <td>0.000000</td>\n",
       "      <td>0.000000</td>\n",
       "      <td>0.000000</td>\n",
       "      <td>0.000000</td>\n",
       "    </tr>\n",
       "    <tr>\n",
       "      <th>25%</th>\n",
       "      <td>0.185185</td>\n",
       "      <td>0.000000</td>\n",
       "      <td>0.500000</td>\n",
       "      <td>0.500000</td>\n",
       "      <td>0.000000</td>\n",
       "      <td>0.000000</td>\n",
       "      <td>0.000000</td>\n",
       "      <td>0.000000</td>\n",
       "      <td>0.333333</td>\n",
       "      <td>0.250000</td>\n",
       "      <td>0.000000</td>\n",
       "      <td>1.000000</td>\n",
       "      <td>0.000000</td>\n",
       "      <td>0.500000</td>\n",
       "      <td>0.333333</td>\n",
       "      <td>0.340608</td>\n",
       "      <td>0.338912</td>\n",
       "      <td>0.160961</td>\n",
       "      <td>0.512287</td>\n",
       "      <td>0.000000</td>\n",
       "      <td>0.000000</td>\n",
       "      <td>1.000000</td>\n",
       "      <td>0.333333</td>\n",
       "    </tr>\n",
       "    <tr>\n",
       "      <th>50%</th>\n",
       "      <td>0.259259</td>\n",
       "      <td>0.200000</td>\n",
       "      <td>0.500000</td>\n",
       "      <td>0.666667</td>\n",
       "      <td>0.000000</td>\n",
       "      <td>1.000000</td>\n",
       "      <td>0.000000</td>\n",
       "      <td>0.000000</td>\n",
       "      <td>0.444444</td>\n",
       "      <td>0.500000</td>\n",
       "      <td>0.024390</td>\n",
       "      <td>1.000000</td>\n",
       "      <td>0.000000</td>\n",
       "      <td>0.500000</td>\n",
       "      <td>0.937500</td>\n",
       "      <td>0.603274</td>\n",
       "      <td>0.376569</td>\n",
       "      <td>0.957379</td>\n",
       "      <td>0.859735</td>\n",
       "      <td>0.000000</td>\n",
       "      <td>0.000000</td>\n",
       "      <td>1.000000</td>\n",
       "      <td>0.666667</td>\n",
       "    </tr>\n",
       "    <tr>\n",
       "      <th>75%</th>\n",
       "      <td>0.370370</td>\n",
       "      <td>0.700000</td>\n",
       "      <td>1.000000</td>\n",
       "      <td>1.000000</td>\n",
       "      <td>0.000000</td>\n",
       "      <td>1.000000</td>\n",
       "      <td>0.000000</td>\n",
       "      <td>1.000000</td>\n",
       "      <td>0.666667</td>\n",
       "      <td>0.750000</td>\n",
       "      <td>0.048780</td>\n",
       "      <td>1.000000</td>\n",
       "      <td>0.000000</td>\n",
       "      <td>0.500000</td>\n",
       "      <td>1.000000</td>\n",
       "      <td>0.698753</td>\n",
       "      <td>0.602510</td>\n",
       "      <td>0.980957</td>\n",
       "      <td>1.000000</td>\n",
       "      <td>0.000000</td>\n",
       "      <td>0.000000</td>\n",
       "      <td>1.000000</td>\n",
       "      <td>0.666667</td>\n",
       "    </tr>\n",
       "    <tr>\n",
       "      <th>max</th>\n",
       "      <td>0.950617</td>\n",
       "      <td>1.000000</td>\n",
       "      <td>1.000000</td>\n",
       "      <td>1.000000</td>\n",
       "      <td>1.000000</td>\n",
       "      <td>1.000000</td>\n",
       "      <td>1.000000</td>\n",
       "      <td>1.000000</td>\n",
       "      <td>1.000000</td>\n",
       "      <td>1.000000</td>\n",
       "      <td>1.341463</td>\n",
       "      <td>1.000000</td>\n",
       "      <td>0.857143</td>\n",
       "      <td>1.000000</td>\n",
       "      <td>1.000000</td>\n",
       "      <td>1.000000</td>\n",
       "      <td>1.000000</td>\n",
       "      <td>1.000000</td>\n",
       "      <td>1.000000</td>\n",
       "      <td>1.000000</td>\n",
       "      <td>1.000000</td>\n",
       "      <td>1.000000</td>\n",
       "      <td>1.000000</td>\n",
       "    </tr>\n",
       "  </tbody>\n",
       "</table>\n",
       "</div>"
      ],
      "text/plain": [
       "                age           job       marital     education       default  \\\n",
       "count  24473.000000  24473.000000  24473.000000  24473.000000  24473.000000   \n",
       "mean       0.283923      0.369166      0.585911      0.692532      0.000082   \n",
       "std        0.128404      0.355757      0.302080      0.272923      0.009040   \n",
       "min        0.000000      0.000000      0.000000      0.000000      0.000000   \n",
       "25%        0.185185      0.000000      0.500000      0.500000      0.000000   \n",
       "50%        0.259259      0.200000      0.500000      0.666667      0.000000   \n",
       "75%        0.370370      0.700000      1.000000      1.000000      0.000000   \n",
       "max        0.950617      1.000000      1.000000      1.000000      1.000000   \n",
       "\n",
       "            housing          loan       contact         month   day_of_week  \\\n",
       "count  24473.000000  24473.000000  24473.000000  24473.000000  24473.000000   \n",
       "mean       0.535447      0.152413      0.363584      0.469433      0.501062   \n",
       "std        0.498752      0.359428      0.481041      0.258292      0.348854   \n",
       "min        0.000000      0.000000      0.000000      0.000000      0.000000   \n",
       "25%        0.000000      0.000000      0.000000      0.333333      0.250000   \n",
       "50%        1.000000      0.000000      0.000000      0.444444      0.500000   \n",
       "75%        1.000000      0.000000      1.000000      0.666667      0.750000   \n",
       "max        1.000000      1.000000      1.000000      1.000000      1.000000   \n",
       "\n",
       "           campaign         pdays      previous      poutcome  emp.var.rate  \\\n",
       "count  24473.000000  24473.000000  24473.000000  24473.000000  24473.000000   \n",
       "mean       0.037957      0.962107      0.024937      0.466106      0.725752   \n",
       "std        0.067965      0.190343      0.071512      0.182003      0.326442   \n",
       "min        0.000000      0.000000      0.000000      0.000000      0.000000   \n",
       "25%        0.000000      1.000000      0.000000      0.500000      0.333333   \n",
       "50%        0.024390      1.000000      0.000000      0.500000      0.937500   \n",
       "75%        0.048780      1.000000      0.000000      0.500000      1.000000   \n",
       "max        1.341463      1.000000      0.857143      1.000000      1.000000   \n",
       "\n",
       "       cons.price.idx  cons.conf.idx     euribor3m   nr.employed  \\\n",
       "count    24473.000000   24473.000000  24473.000000  24473.000000   \n",
       "mean         0.535725       0.430205      0.677454      0.769487   \n",
       "std          0.225093       0.193544      0.392818      0.272711   \n",
       "min          0.000000       0.000000      0.000000      0.000000   \n",
       "25%          0.340608       0.338912      0.160961      0.512287   \n",
       "50%          0.603274       0.376569      0.957379      0.859735   \n",
       "75%          0.698753       0.602510      0.980957      1.000000   \n",
       "max          1.000000       1.000000      1.000000      1.000000   \n",
       "\n",
       "           pdayscat        agecat       campcat     centroid1  \n",
       "count  24473.000000  24473.000000  24473.000000  24473.000000  \n",
       "mean       0.038124      0.024680      0.986638      0.542530  \n",
       "std        0.191499      0.138377      0.114820      0.194474  \n",
       "min        0.000000      0.000000      0.000000      0.000000  \n",
       "25%        0.000000      0.000000      1.000000      0.333333  \n",
       "50%        0.000000      0.000000      1.000000      0.666667  \n",
       "75%        0.000000      0.000000      1.000000      0.666667  \n",
       "max        1.000000      1.000000      1.000000      1.000000  "
      ]
     },
     "execution_count": 45,
     "metadata": {},
     "output_type": "execute_result"
    }
   ],
   "source": [
    "def normalizer(traindata,testdata):\n",
    "    \n",
    "    trainnormalized = (traindata-min(traindata))/(max(traindata)-min(traindata))\n",
    "    testnormalized = (testdata-min(traindata))/(max(traindata)-min(traindata))\n",
    "    return trainnormalized, testnormalized\n",
    "\n",
    "\n",
    "for column in X:\n",
    "    X[column], Xtest[column] = normalizer(X[column],Xtest[column])\n",
    "\n",
    "# print (X.describe())\n",
    "Xtest.describe()\n",
    "# df.education = normalizer(df.education)"
   ]
  },
  {
   "cell_type": "code",
   "execution_count": null,
   "metadata": {
    "collapsed": false
   },
   "outputs": [],
   "source": [
    "if 1==0:\n",
    "    # L1 Based feature selection\n",
    "    from sklearn.feature_selection import SelectFromModel\n",
    "    from sklearn.svm import LinearSVC\n",
    "\n",
    "    print (\"\\t\\tBefore\")\n",
    "    print (\" X - {}\".format(X.shape))\n",
    "    print (\" Xtest - {}\".format(Xtest.shape))\n",
    "\n",
    "    lsvc = LinearSVC(C=0.01, penalty=\"l2\", dual=False).fit(X, y)\n",
    "    model = SelectFromModel(lsvc, prefit=True)\n",
    "    X = model.transform(X)\n",
    "    Xtest = model.transform(Xtest)\n",
    "\n",
    "    print (\"\\t\\tBefore\")\n",
    "    print (\" X - {}\".format(X.shape))\n",
    "    print (\" Xtest - {}\".format(Xtest.shape))"
   ]
  },
  {
   "cell_type": "code",
   "execution_count": 51,
   "metadata": {
    "collapsed": false
   },
   "outputs": [],
   "source": [
    "if 1 == 0:\n",
    "    # Boruta\n",
    "\n",
    "    # define random forest classifier, with utilising all cores and\n",
    "    # sampling in proportion to y labels\n",
    "    forest = RandomForestClassifier(n_jobs=-1, class_weight='auto')\n",
    "\n",
    "    # define Boruta feature selection method\n",
    "    feat_selector = boruta_py.BorutaPy(forest, n_estimators='auto', verbose=2)\n",
    "\n",
    "    # find all relevant features\n",
    "    feat_selector.fit(X.values, y.values)\n",
    "\n",
    "    # check selected features\n",
    "    feat_selector.support_\n",
    "\n",
    "    # check ranking of features\n",
    "    feat_selector.ranking_\n",
    "    \n",
    "    # call transform() on X to filter it down to selected features\n",
    "    X_filtered = feat_selector.transform(X.values)\n",
    "    X_test = feat_selector.transform(Xtest.values)"
   ]
  },
  {
   "cell_type": "markdown",
   "metadata": {},
   "source": [
    "### Tuning"
   ]
  },
  {
   "cell_type": "code",
   "execution_count": 10,
   "metadata": {
    "collapsed": false
   },
   "outputs": [],
   "source": [
    "def cv_score(clf, x, y, score_func=recall_score): #Apply k-fold cross velidation\n",
    "    result = 0\n",
    "    nfold = 5\n",
    "    for train, test in KFold(nfold,random_state=0).split(x): # split data into train/test groups, 5 times\n",
    "        clf.fit(x[train], y[train]) # fit\n",
    "        result += score_func(y[test],clf.predict(x[test])) # evaluate score function on held-out data\n",
    "    return result / nfold # average"
   ]
  },
  {
   "cell_type": "code",
   "execution_count": 7,
   "metadata": {
    "collapsed": true
   },
   "outputs": [],
   "source": [
    "def roccurve(trainedevaluator,plotting=True,X=X,y=y,Xtest=Xtest,ytest=ytest):\n",
    "    \"\"\" Plots ROC Curve and return area under the curve \"\"\"\n",
    "    \n",
    "    #fit\n",
    "    trainedevaluator.fit(X,y)\n",
    "    \n",
    "    #Find probabilities\n",
    "    preds = trainedevaluator.predict_proba(Xtest)[:,1]\n",
    "    \n",
    "    #ROC\n",
    "    fpr, tpr, _ = roc_curve(ytest, preds)\n",
    "    \n",
    "    #Area Under the curve\n",
    "    area = auc(fpr,tpr)\n",
    "    \n",
    "    #Plot\n",
    "    if plotting == True:\n",
    "        plt.figure(figsize=(6,6))\n",
    "        plt.xlim([0,1])\n",
    "        plt.ylim([0,1])\n",
    "        plt.title(\"ROC\",fontsize=12)\n",
    "        plt.xlabel(\"False Positive Rate\")\n",
    "        plt.ylabel(\"Ttrue Positive Rate\")\n",
    "        plt.plot(fpr,tpr)\n",
    "        plt.plot([0,1],[0,1],'--',alpha=0.5)\n",
    "    \n",
    "    return area"
   ]
  },
  {
   "cell_type": "code",
   "execution_count": 37,
   "metadata": {
    "collapsed": true
   },
   "outputs": [],
   "source": [
    "def prediction(clf,X=X,y=y,Xtest=Xtest,ytest=ytest):\n",
    "    clf.fit(X.values, y.values)\n",
    "    preds = clf.predict(Xtest)\n",
    "    cm = confusion_matrix(ytest, preds)\n",
    "    \n",
    "    print (\"\\nClassification Report on the Training data -\\n\", classification_report(y, clf.predict(X)))\n",
    "    \n",
    "    print(\"Accuracy Score =\", accuracy_score(ytest, preds))\n",
    "    print(\"Recall Score = \", recall_score(ytest,preds))\n",
    "    \n",
    "    print(\"\\nConfusion Matrix -\\n\",cm)\n",
    "    print(\"\\nClassification Report -\\n\",classification_report(ytest, preds))\n",
    "    try:\n",
    "        print(\"Area under the ROC curve = {}\".format(roccurve(clf)))\n",
    "    except AttributeError:\n",
    "        print (\"Cannot draw ROC - predict_proba is not an attribute\")"
   ]
  },
  {
   "cell_type": "code",
   "execution_count": 34,
   "metadata": {
    "collapsed": false
   },
   "outputs": [
    {
     "data": {
      "text/plain": [
       "(28550,)"
      ]
     },
     "execution_count": 34,
     "metadata": {},
     "output_type": "execute_result"
    }
   ],
   "source": [
    "y.shape"
   ]
  },
  {
   "cell_type": "code",
   "execution_count": 17,
   "metadata": {
    "collapsed": false
   },
   "outputs": [
    {
     "name": "stdout",
     "output_type": "stream",
     "text": [
      "\n",
      "Classification Report on the Training data -\n",
      "              precision    recall  f1-score   support\n",
      "\n",
      "          0       0.91      0.99      0.95     25300\n",
      "          1       0.70      0.21      0.33      3250\n",
      "\n",
      "avg / total       0.88      0.90      0.88     28550\n",
      "\n",
      "Accuracy Score = 0.902018468579\n",
      "\n",
      "Confusion Matrix -\n",
      " [[10752   141]\n",
      " [ 1058   286]]\n",
      "\n",
      "Classification Report -\n",
      "              precision    recall  f1-score   support\n",
      "\n",
      "          0       0.91      0.99      0.95     10893\n",
      "          1       0.67      0.21      0.32      1344\n",
      "\n",
      "avg / total       0.88      0.90      0.88     12237\n",
      "\n",
      "Area under the ROC curve = 0.7940492515398705\n"
     ]
    },
    {
     "data": {
      "image/png": "[encoded data removed]",
      "text/plain": [
       "<matplotlib.figure.Figure at 0xa486dd8>"
      ]
     },
     "metadata": {},
     "output_type": "display_data"
    }
   ],
   "source": [
    "clf = LogisticRegression(penalty='l2',random_state=0)\n",
    "\n",
    "prediction(clf)"
   ]
  },
  {
   "cell_type": "markdown",
   "metadata": {},
   "source": [
    "#### Tune C"
   ]
  },
  {
   "cell_type": "code",
   "execution_count": 13,
   "metadata": {
    "collapsed": false
   },
   "outputs": [
    {
     "name": "stdout",
     "output_type": "stream",
     "text": [
      "Maximum score of 0.22973732742729397 is achieved at C = 10\n"
     ]
    }
   ],
   "source": [
    "#the grid of parameters to search over\n",
    "Cs = [5,10,15]\n",
    "Cs2 = list(np.arange(10,70,5))\n",
    "max_score = 0\n",
    "# your turn\n",
    "for C in Cs:\n",
    "    clf = LogisticRegression(C=C,penalty='l2',random_state=1)\n",
    "    score = cv_score(clf, X.values, y.values)\n",
    "#     print (score)\n",
    "    if score > max_score:\n",
    "        max_score = score\n",
    "        Cfinal = C\n",
    "print (\"Maximum score of {} is achieved at C = {}\".format(max_score,Cfinal))"
   ]
  },
  {
   "cell_type": "code",
   "execution_count": 14,
   "metadata": {
    "collapsed": false
   },
   "outputs": [
    {
     "name": "stdout",
     "output_type": "stream",
     "text": [
      "\n",
      "Classification Report on the Training data -\n",
      "              precision    recall  f1-score   support\n",
      "\n",
      "          0       0.91      0.99      0.95     14536\n",
      "          1       0.67      0.24      0.35      1778\n",
      "\n",
      "avg / total       0.89      0.90      0.88     16314\n",
      "\n",
      "Accuracy Score = 0.897397131533\n",
      "\n",
      "Confusion Matrix -\n",
      " [[21327   330]\n",
      " [ 2181   635]]\n",
      "\n",
      "Classification Report -\n",
      "              precision    recall  f1-score   support\n",
      "\n",
      "          0       0.91      0.98      0.94     21657\n",
      "          1       0.66      0.23      0.34      2816\n",
      "\n",
      "avg / total       0.88      0.90      0.87     24473\n",
      "\n",
      "Area under the ROC curve = 0.7852652092332104\n"
     ]
    },
    {
     "data": {
      "image/png": "[encoded data removed]",
      "text/plain": [
       "<matplotlib.figure.Figure at 0xb5f9e48>"
      ]
     },
     "metadata": {},
     "output_type": "display_data"
    }
   ],
   "source": [
    "# your turn\n",
    "clf = LogisticRegression(C=Cfinal,random_state=1)\n",
    "\n",
    "prediction(clf)"
   ]
  },
  {
   "cell_type": "markdown",
   "metadata": {},
   "source": [
    "* **Attempt 1 : Basic Clean Data                : 0.901201274822**\n",
    "* **Attempt 2 : Basic Clean Data + Categorical age and pdays              : 0.901201274822**\n",
    "* **Attempt 3 : Basic Clean Data + Normalization : 0.902263626706**\n",
    "* **Attempt 4 : Basic Clean Data + Normalization + Categorical age and pdays: 0.902263626706**\n",
    "\n",
    "\n",
    "### Take 2\n",
    "\n",
    "* **Attempt 1 : LabelEncoding (clean_data_basic.csv) + Normalization**\n",
    "    * F1 score = 0.3470169677066229\n",
    "    * Area under the ROC curve = 0.8009772686041277\n",
    "    * Accuracy Score = 0.902508784833\n",
    "* **Attempt 2 : OneHotEncoding (clean_data_22_features.csv) + Normalization**\n",
    "    * F1 score = 0.3194130925507901\n",
    "    * Area under the ROC curve = 0.7952553149576181\n",
    "    * Accuracy Score = 0.901446432949"
   ]
  },
  {
   "cell_type": "markdown",
   "metadata": {},
   "source": [
    "In this problem it might make sence to optimize towards maximizing towards accurate prediction of people who will subscribe to the service.\n",
    "In this case we accurately predicted 317 people out of 179. So, let's try making that a scoring criteria.\n",
    "** In our context - that is True Positives / Actual Positives, i.e. True Positive Rate / Recall / Sensitivity"
   ]
  },
  {
   "cell_type": "markdown",
   "metadata": {
    "collapsed": true
   },
   "source": [
    "## SVC"
   ]
  },
  {
   "cell_type": "code",
   "execution_count": 118,
   "metadata": {
    "collapsed": false
   },
   "outputs": [],
   "source": [
    "from sklearn.svm import SVC, LinearSVC\n",
    "from sklearn.model_selection import GridSearchCV"
   ]
  },
  {
   "cell_type": "code",
   "execution_count": 119,
   "metadata": {
    "collapsed": false
   },
   "outputs": [
    {
     "name": "stdout",
     "output_type": "stream",
     "text": [
      "\n",
      " 405.112171 seconds\n",
      "Accuracy Score = 0.897932499796\n",
      "Confusion Matrix -\n",
      " [[10723   170]\n",
      " [ 1079   265]]\n",
      "\n",
      "Classification Report -\n",
      "              precision    recall  f1-score   support\n",
      "\n",
      "          0       0.91      0.98      0.94     10893\n",
      "          1       0.61      0.20      0.30      1344\n",
      "\n",
      "avg / total       0.88      0.90      0.87     12237\n",
      "\n",
      "Area under the ROC curve = 0.6969505591183504\n"
     ]
    },
    {
     "data": {
      "image/png": "[encoded data removed]",
      "text/plain": [
       "<matplotlib.figure.Figure at 0xa30e358>"
      ]
     },
     "metadata": {},
     "output_type": "display_data"
    }
   ],
   "source": [
    "#SVC\n",
    "t = time.time()\n",
    "svc = SVC(probability=True,random_state=5)\n",
    "svc.fit(X,y)\n",
    "print(\"\\n %f seconds\" % (time.time() - t))\n",
    "t = time.time()\n",
    "prediction(svc)\n",
    "print(\"\\n %f seconds\" % (time.time() - t))"
   ]
  },
  {
   "cell_type": "code",
   "execution_count": 120,
   "metadata": {
    "collapsed": false
   },
   "outputs": [
    {
     "name": "stdout",
     "output_type": "stream",
     "text": [
      "\n",
      " 0.543031 seconds\n"
     ]
    }
   ],
   "source": [
    "#LinearSVC\n",
    "t = time.time()\n",
    "linsvc = LinearSVC(dual=False,random_state=5)\n",
    "linsvc.fit(X,y)\n",
    "print(\"\\n %f seconds\" % (time.time() - t))"
   ]
  },
  {
   "cell_type": "code",
   "execution_count": 125,
   "metadata": {
    "collapsed": false
   },
   "outputs": [
    {
     "name": "stdout",
     "output_type": "stream",
     "text": [
      "Accuracy Score = 0.901773310452\n",
      "\n",
      "Confusion Matrix -\n",
      " [[10747   146]\n",
      " [ 1056   288]]\n",
      "\n",
      "Classification Report -\n",
      "              precision    recall  f1-score   support\n",
      "\n",
      "          0       0.91      0.99      0.95     10893\n",
      "          1       0.66      0.21      0.32      1344\n",
      "\n",
      "avg / total       0.88      0.90      0.88     12237\n",
      "\n",
      "Cannot draw ROC - predict_proba is not an attribute\n",
      "\n",
      " 1.097063 seconds\n"
     ]
    }
   ],
   "source": [
    "t = time.time()\n",
    "prediction(linsvc)\n",
    "print(\"\\n %f seconds\" % (time.time() - t))"
   ]
  },
  {
   "cell_type": "code",
   "execution_count": null,
   "metadata": {
    "collapsed": false
   },
   "outputs": [],
   "source": [
    "#Tuning Using GridSearchCV\n",
    "parameters = {'kernel':('linear', 'rbf'),'C':[1,5,10],  'gamma': \n",
    "              [0.01,0.10,0.5]}\n",
    "# \n",
    "svr = SVC()\n",
    "grid = GridSearchCV(svr, parameters, scoring='recall')\n",
    "grid.fit(X.values, y.values)"
   ]
  },
  {
   "cell_type": "code",
   "execution_count": null,
   "metadata": {
    "collapsed": false
   },
   "outputs": [],
   "source": [
    "grid.best_estimator_\n",
    "# SVC(C=1.0, cache_size=200, class_weight=None, coef0=0.0,\n",
    "#   decision_function_shape=None, degree=3, gamma=0.1, kernel='rbf',\n",
    "#   max_iter=-1, probability=False, random_state=None, shrinking=True,\n",
    "#   tol=0.001, verbose=False)"
   ]
  },
  {
   "cell_type": "code",
   "execution_count": 126,
   "metadata": {
    "collapsed": false
   },
   "outputs": [
    {
     "name": "stdout",
     "output_type": "stream",
     "text": [
      "\n",
      " 455.175035 seconds\n"
     ]
    }
   ],
   "source": [
    "# your turn\n",
    "t = time.time()\n",
    "svcfinal = SVC(C=1.0, cache_size=200, class_weight=None, coef0=0.0,\n",
    "  decision_function_shape=None, degree=3, gamma=0.1, kernel='rbf',\n",
    "  max_iter=-1, probability=True, random_state=5, shrinking=True,\n",
    "  tol=0.001, verbose=False)\n",
    "svcfinal.fit(X, y)\n",
    "print(\"\\n %f seconds\" % (time.time() - t))"
   ]
  },
  {
   "cell_type": "code",
   "execution_count": 127,
   "metadata": {
    "collapsed": false
   },
   "outputs": [
    {
     "name": "stdout",
     "output_type": "stream",
     "text": [
      "Accuracy Score = 0.898504535425\n",
      "\n",
      "Confusion Matrix -\n",
      " [[10730   163]\n",
      " [ 1079   265]]\n",
      "\n",
      "Classification Report -\n",
      "              precision    recall  f1-score   support\n",
      "\n",
      "          0       0.91      0.99      0.95     10893\n",
      "          1       0.62      0.20      0.30      1344\n",
      "\n",
      "avg / total       0.88      0.90      0.87     12237\n",
      "\n",
      "Area under the ROC curve = 0.7030655403972844\n",
      "\n",
      " 1205.446948 seconds\n"
     ]
    },
    {
     "data": {
      "image/png": "[encoded data removed]",
      "text/plain": [
       "<matplotlib.figure.Figure at 0xa30e588>"
      ]
     },
     "metadata": {},
     "output_type": "display_data"
    }
   ],
   "source": [
    "t = time.time()\n",
    "prediction(svcfinal)\n",
    "print(\"\\n %f seconds\" % (time.time() - t))"
   ]
  },
  {
   "cell_type": "markdown",
   "metadata": {},
   "source": [
    "## Random Forest"
   ]
  },
  {
   "cell_type": "code",
   "execution_count": 16,
   "metadata": {
    "collapsed": true
   },
   "outputs": [],
   "source": [
    "from sklearn.ensemble import RandomForestClassifier, ExtraTreesClassifier, AdaBoostClassifier, GradientBoostingClassifier"
   ]
  },
  {
   "cell_type": "code",
   "execution_count": 53,
   "metadata": {
    "collapsed": false
   },
   "outputs": [
    {
     "name": "stdout",
     "output_type": "stream",
     "text": [
      "\n",
      "Classification Report on the Training data -\n",
      "              precision    recall  f1-score   support\n",
      "\n",
      "          0       1.00      1.00      1.00     14536\n",
      "          1       0.99      0.98      0.99      1778\n",
      "\n",
      "avg / total       1.00      1.00      1.00     16314\n",
      "\n",
      "Accuracy Score = 0.892248600499\n",
      "\n",
      "Confusion Matrix -\n",
      " [[21026   631]\n",
      " [ 2006   810]]\n",
      "\n",
      "Classification Report -\n",
      "              precision    recall  f1-score   support\n",
      "\n",
      "          0       0.91      0.97      0.94     21657\n",
      "          1       0.56      0.29      0.38      2816\n",
      "\n",
      "avg / total       0.87      0.89      0.88     24473\n",
      "\n",
      "Area under the ROC curve = 0.7759366673514126\n"
     ]
    },
    {
     "data": {
      "image/png": "[encoded data removed]",
      "text/plain": [
       "<matplotlib.figure.Figure at 0xbc4d0b8>"
      ]
     },
     "metadata": {},
     "output_type": "display_data"
    }
   ],
   "source": [
    "#Initial Run\n",
    "rf = RandomForestClassifier(n_estimators=100, max_depth=None, oob_score=True)\n",
    "rf.fit(X,y)\n",
    "\n",
    "prediction(rf)"
   ]
  },
  {
   "cell_type": "markdown",
   "metadata": {},
   "source": [
    "### Feature Importances"
   ]
  },
  {
   "cell_type": "code",
   "execution_count": 22,
   "metadata": {
    "collapsed": false
   },
   "outputs": [
    {
     "data": {
      "text/plain": [
       "(-1, 23)"
      ]
     },
     "execution_count": 22,
     "metadata": {},
     "output_type": "execute_result"
    },
    {
     "data": {
      "image/png": "[encoded data removed]",
      "text/plain": [
       "<matplotlib.figure.Figure at 0xbcbbc50>"
      ]
     },
     "metadata": {},
     "output_type": "display_data"
    }
   ],
   "source": [
    "predictors = list(features.columns)\n",
    "\n",
    "importances=rf.feature_importances_\n",
    "\n",
    "indices = np.argsort(importances)[::-1]\n",
    "\n",
    "sorted_important_features=[]\n",
    "for i in indices:\n",
    "    sorted_important_features.append(predictors[i])\n",
    "    \n",
    "plt.figure()\n",
    "plt.title(\"Feature Importances By Random Forest Model\")\n",
    "plt.bar(range(np.size(predictors)), importances[indices],\n",
    "       color=\"r\")\n",
    "plt.xticks(range(np.size(predictors)), sorted_important_features, rotation='vertical')\n",
    "\n",
    "plt.xlim([-1, np.size(predictors)])"
   ]
  },
  {
   "cell_type": "code",
   "execution_count": null,
   "metadata": {
    "collapsed": false
   },
   "outputs": [],
   "source": [
    "# for i in sorted_important_features:\n",
    "#     print(i)"
   ]
  },
  {
   "cell_type": "code",
   "execution_count": 17,
   "metadata": {
    "collapsed": false
   },
   "outputs": [
    {
     "name": "stdout",
     "output_type": "stream",
     "text": [
      "\n",
      " 0.000000 seconds\n",
      "\n",
      " 941.851871 seconds\n"
     ]
    }
   ],
   "source": [
    "from sklearn.model_selection import GridSearchCV\n",
    "\n",
    "rf = RandomForestClassifier()\n",
    "\n",
    "parameters = {'n_estimators':[20,30,50,100,200],\n",
    "              'max_features':['sqrt','log2',None],\n",
    "             'criterion':['gini','entropy'],\n",
    "             'min_samples_split':[2,10,0.01]}\n",
    "\n",
    "t = time.time()\n",
    "gs = GridSearchCV(rf,parameters,cv=5,scoring='recall',n_jobs=-1)\n",
    "print(\"\\n %f seconds\" % (time.time() - t))\n",
    "t = time.time()\n",
    "gs.fit(X,y)\n",
    "print(\"\\n %f seconds\" % (time.time() - t))"
   ]
  },
  {
   "cell_type": "code",
   "execution_count": 19,
   "metadata": {
    "collapsed": false
   },
   "outputs": [
    {
     "name": "stdout",
     "output_type": "stream",
     "text": [
      "\n",
      " 814.242572 seconds\n",
      "\n",
      "Classification Report on the Training data -\n",
      "              precision    recall  f1-score   support\n",
      "\n",
      "          0       1.00      1.00      1.00     14536\n",
      "          1       1.00      0.98      0.99      1778\n",
      "\n",
      "avg / total       1.00      1.00      1.00     16314\n",
      "\n",
      "Accuracy Score = 0.890287255343\n",
      "\n",
      "Confusion Matrix -\n",
      " [[20954   703]\n",
      " [ 1982   834]]\n",
      "\n",
      "Classification Report -\n",
      "              precision    recall  f1-score   support\n",
      "\n",
      "          0       0.91      0.97      0.94     21657\n",
      "          1       0.54      0.30      0.38      2816\n",
      "\n",
      "avg / total       0.87      0.89      0.88     24473\n",
      "\n",
      "Area under the ROC curve = 0.7709784237434253\n",
      "\n",
      " 1742.624672 seconds\n"
     ]
    },
    {
     "data": {
      "image/png": "[encoded data removed]",
      "text/plain": [
       "<matplotlib.figure.Figure at 0xb3b1780>"
      ]
     },
     "metadata": {},
     "output_type": "display_data"
    }
   ],
   "source": [
    "t = time.time()\n",
    "# gs.fit(X,y)\n",
    "print(\"\\n %f seconds\" % (time.time() - t))\n",
    "t = time.time()\n",
    "prediction(gs)\n",
    "print(\"\\n %f seconds\" % (time.time() - t))"
   ]
  },
  {
   "cell_type": "code",
   "execution_count": null,
   "metadata": {
    "collapsed": true
   },
   "outputs": [],
   "source": []
  },
  {
   "cell_type": "markdown",
   "metadata": {},
   "source": [
    "## Other Trees\n",
    "\n",
    "#### (ExtraTreesClassifier, AdaBoostClassifier, GradientBoostingClassifier)"
   ]
  },
  {
   "cell_type": "code",
   "execution_count": 45,
   "metadata": {
    "collapsed": false
   },
   "outputs": [
    {
     "name": "stdout",
     "output_type": "stream",
     "text": [
      "\n",
      " 0.007000 seconds\n",
      "\n",
      " 89.270106 seconds\n"
     ]
    }
   ],
   "source": [
    "#Extra Trees\n",
    "t = time.time()\n",
    "et = ExtraTreesClassifier(criterion='gini',n_estimators=200)\n",
    "parameters = {'max_features':['sqrt','log2'],\n",
    "             'min_samples_split':[2,10,20]}\n",
    "\n",
    "t = time.time()\n",
    "gs = GridSearchCV(et,parameters,cv=5,n_jobs=-1)\n",
    "print(\"\\n %f seconds\" % (time.time() - t))\n",
    "t = time.time()\n",
    "gs.fit(X,y)\n",
    "print(\"\\n %f seconds\" % (time.time() - t))"
   ]
  },
  {
   "cell_type": "code",
   "execution_count": 46,
   "metadata": {
    "collapsed": false
   },
   "outputs": [
    {
     "name": "stdout",
     "output_type": "stream",
     "text": [
      "\n",
      "Classification Report on the Training data -\n",
      "              precision    recall  f1-score   support\n",
      "\n",
      "          0       0.94      1.00      0.97     14536\n",
      "          1       0.94      0.51      0.66      1778\n",
      "\n",
      "avg / total       0.94      0.94      0.94     16314\n",
      "\n",
      "Accuracy Score = 0.897560576962\n",
      "Recall Score =  0.260298295455\n",
      "\n",
      "Confusion Matrix -\n",
      " [[21233   424]\n",
      " [ 2083   733]]\n",
      "\n",
      "Classification Report -\n",
      "              precision    recall  f1-score   support\n",
      "\n",
      "          0       0.91      0.98      0.94     21657\n",
      "          1       0.63      0.26      0.37      2816\n",
      "\n",
      "avg / total       0.88      0.90      0.88     24473\n",
      "\n",
      "Area under the ROC curve = 0.7807566663702057\n",
      "\n",
      " 18.244044 seconds\n"
     ]
    },
    {
     "data": {
      "image/png": "[encoded data removed]",
      "text/plain": [
       "<matplotlib.figure.Figure at 0xf530b38>"
      ]
     },
     "metadata": {},
     "output_type": "display_data"
    }
   ],
   "source": [
    "t = time.time()\n",
    "prediction(gs.best_estimator_)\n",
    "# print (\"\\n\", gs.best_estimator_)\n",
    "# print (\"\\n\", gs.cv_results_)\n",
    "# print (\"\\n\", gs.grid_scores_)\n",
    "print(\"\\n %f seconds\" % (time.time() - t))"
   ]
  },
  {
   "cell_type": "markdown",
   "metadata": {},
   "source": [
    "Classification Report on the Training data -\n",
    "              precision    recall  f1-score   support\n",
    "\n",
    "          0       1.00      1.00      1.00     14536\n",
    "          1       1.00      0.97      0.99      1778\n",
    "\n",
    "avg / total       1.00      1.00      1.00     16314\n",
    "\n",
    "Accuracy Score = 0.876762146038\n",
    "Recall Score =  0.305042613636\n",
    "\n",
    "Confusion Matrix -\n",
    " \n",
    " [[20598  1059]\n",
    " \n",
    " [ 1957   859]]\n",
    "\n",
    "Classification Report -\n",
    "              precision    recall  f1-score   support\n",
    "\n",
    "          0       0.91      0.95      0.93     21657\n",
    "          1       0.45      0.31      0.36      2816\n",
    "\n",
    "avg / total       0.86      0.88      0.87     24473\n",
    "\n",
    "Area under the ROC curve = 0.7393755647187348"
   ]
  },
  {
   "cell_type": "code",
   "execution_count": 47,
   "metadata": {
    "collapsed": false
   },
   "outputs": [],
   "source": [
    "# t = time.time()\n",
    "# prediction(gs.best_estimator_)\n",
    "# print(\"\\n %f seconds\" % (time.time() - t))"
   ]
  },
  {
   "cell_type": "code",
   "execution_count": 48,
   "metadata": {
    "collapsed": false
   },
   "outputs": [
    {
     "name": "stdout",
     "output_type": "stream",
     "text": [
      "\n",
      " 0.013001 seconds\n",
      "\n",
      " 170.162733 seconds\n"
     ]
    }
   ],
   "source": [
    "#AdaBoostClassifier\n",
    "t = time.time()\n",
    "ada = AdaBoostClassifier()\n",
    "parameters = {'n_estimators':[20,30,50,100,200],\n",
    "              'learning_rate':[1,0.8,0.6,0.4],\n",
    "              'algorithm':[\"SAMME\", \"SAMME.R\"]}\n",
    "\n",
    "t = time.time()\n",
    "gs = GridSearchCV(ada,parameters,cv=5,n_jobs=-1)\n",
    "print(\"\\n %f seconds\" % (time.time() - t))\n",
    "t = time.time()\n",
    "gs.fit(X,y)\n",
    "print(\"\\n %f seconds\" % (time.time() - t))"
   ]
  },
  {
   "cell_type": "code",
   "execution_count": 49,
   "metadata": {
    "collapsed": false
   },
   "outputs": [
    {
     "name": "stdout",
     "output_type": "stream",
     "text": [
      "\n",
      "Classification Report on the Training data -\n",
      "              precision    recall  f1-score   support\n",
      "\n",
      "          0       0.91      0.99      0.95     14536\n",
      "          1       0.68      0.23      0.35      1778\n",
      "\n",
      "avg / total       0.89      0.90      0.88     16314\n",
      "\n",
      "Accuracy Score = 0.89760143832\n",
      "Recall Score =  0.218394886364\n",
      "\n",
      "Confusion Matrix -\n",
      " [[21352   305]\n",
      " [ 2201   615]]\n",
      "\n",
      "Classification Report -\n",
      "              precision    recall  f1-score   support\n",
      "\n",
      "          0       0.91      0.99      0.94     21657\n",
      "          1       0.67      0.22      0.33      2816\n",
      "\n",
      "avg / total       0.88      0.90      0.87     24473\n",
      "\n",
      "Area under the ROC curve = 0.7845114392601384\n",
      "\n",
      " 10.511601 seconds\n"
     ]
    },
    {
     "data": {
      "image/png": "[encoded data removed]",
      "text/plain": [
       "<matplotlib.figure.Figure at 0xb3dfdd8>"
      ]
     },
     "metadata": {},
     "output_type": "display_data"
    }
   ],
   "source": [
    "t = time.time()\n",
    "prediction(gs.best_estimator_)\n",
    "print(\"\\n %f seconds\" % (time.time() - t))"
   ]
  },
  {
   "cell_type": "code",
   "execution_count": 50,
   "metadata": {
    "collapsed": false
   },
   "outputs": [
    {
     "name": "stdout",
     "output_type": "stream",
     "text": [
      "\n",
      " 0.000000 seconds\n",
      "\n",
      " 1027.810787 seconds\n"
     ]
    }
   ],
   "source": [
    "#Gradient Boosting Classifier\n",
    "t = time.time()\n",
    "gb = GradientBoostingClassifier()\n",
    "parameters = {'loss':['deviance', 'exponential'],\n",
    "             'n_estimators':[20,30,50,100,200],\n",
    "              'learning_rate':[0.1,0.5,1.0],\n",
    "              'max_features':['sqrt','log2',None],\n",
    "             'min_samples_split':[2,10,0.01]}\n",
    "\n",
    "t = time.time()\n",
    "gs = GridSearchCV(gb,parameters,cv=5,scoring='recall',n_jobs=-1)\n",
    "print(\"\\n %f seconds\" % (time.time() - t))\n",
    "t = time.time()\n",
    "gs.fit(X,y)\n",
    "print(\"\\n %f seconds\" % (time.time() - t))"
   ]
  },
  {
   "cell_type": "code",
   "execution_count": 51,
   "metadata": {
    "collapsed": false
   },
   "outputs": [
    {
     "name": "stdout",
     "output_type": "stream",
     "text": [
      "\n",
      "Classification Report on the Training data -\n",
      "              precision    recall  f1-score   support\n",
      "\n",
      "          0       0.94      0.98      0.96     14536\n",
      "          1       0.76      0.44      0.56      1778\n",
      "\n",
      "avg / total       0.92      0.92      0.92     16314\n",
      "\n",
      "Accuracy Score = 0.886282842316\n",
      "Recall Score =  0.286576704545\n",
      "\n",
      "Confusion Matrix -\n",
      " [[20883   774]\n",
      " [ 2009   807]]\n",
      "\n",
      "Classification Report -\n",
      "              precision    recall  f1-score   support\n",
      "\n",
      "          0       0.91      0.96      0.94     21657\n",
      "          1       0.51      0.29      0.37      2816\n",
      "\n",
      "avg / total       0.87      0.89      0.87     24473\n",
      "\n",
      "Area under the ROC curve = 0.7381435301204313\n",
      "\n",
      " 2529.083219 seconds\n"
     ]
    },
    {
     "data": {
      "image/png": "[encoded data removed]",
      "text/plain": [
       "<matplotlib.figure.Figure at 0xa36b2b0>"
      ]
     },
     "metadata": {},
     "output_type": "display_data"
    }
   ],
   "source": [
    "t = time.time()\n",
    "prediction(gs)\n",
    "print(\"\\n %f seconds\" % (time.time() - t))"
   ]
  },
  {
   "cell_type": "code",
   "execution_count": null,
   "metadata": {
    "collapsed": true
   },
   "outputs": [],
   "source": []
  }
 ],
 "metadata": {
  "anaconda-cloud": {},
  "kernelspec": {
   "display_name": "Python 3",
   "language": "python",
   "name": "python3"
  },
  "language_info": {
   "codemirror_mode": {
    "name": "ipython",
    "version": 3
   },
   "file_extension": ".py",
   "mimetype": "text/x-python",
   "name": "python",
   "nbconvert_exporter": "python",
   "pygments_lexer": "ipython3",
   "version": "3.6.0"
  }
 },
 "nbformat": 4,
 "nbformat_minor": 2
}
