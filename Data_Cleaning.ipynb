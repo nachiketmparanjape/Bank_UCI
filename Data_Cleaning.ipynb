{
 "cells": [
  {
   "cell_type": "markdown",
   "metadata": {},
   "source": [
    "## Import Packages"
   ]
  },
  {
   "cell_type": "code",
   "execution_count": 1,
   "metadata": {
    "collapsed": true
   },
   "outputs": [],
   "source": [
    "import pandas as pd\n",
    "import numpy as np\n",
    "import matplotlib.pyplot as plt\n",
    "\n",
    "from sklearn.ensemble import RandomForestClassifier\n",
    "from sklearn.utils import shuffle\n",
    "from sklearn import preprocessing"
   ]
  },
  {
   "cell_type": "markdown",
   "metadata": {},
   "source": [
    "## Import Data"
   ]
  },
  {
   "cell_type": "code",
   "execution_count": 2,
   "metadata": {
    "collapsed": false
   },
   "outputs": [
    {
     "data": {
      "text/plain": [
       "41188"
      ]
     },
     "execution_count": 2,
     "metadata": {},
     "output_type": "execute_result"
    }
   ],
   "source": [
    "df = pd.read_csv('./bank-additional/bank-additional-full.csv',delimiter=';')\n",
    "len(df)"
   ]
  },
  {
   "cell_type": "markdown",
   "metadata": {},
   "source": [
    "Let us see the data-types"
   ]
  },
  {
   "cell_type": "code",
   "execution_count": 3,
   "metadata": {
    "collapsed": false
   },
   "outputs": [
    {
     "data": {
      "text/plain": [
       "age                 int64\n",
       "job                object\n",
       "marital            object\n",
       "education          object\n",
       "default            object\n",
       "housing            object\n",
       "loan               object\n",
       "contact            object\n",
       "month              object\n",
       "day_of_week        object\n",
       "duration            int64\n",
       "campaign            int64\n",
       "pdays               int64\n",
       "previous            int64\n",
       "poutcome           object\n",
       "emp.var.rate      float64\n",
       "cons.price.idx    float64\n",
       "cons.conf.idx     float64\n",
       "euribor3m         float64\n",
       "nr.employed       float64\n",
       "y                  object\n",
       "dtype: object"
      ]
     },
     "execution_count": 3,
     "metadata": {},
     "output_type": "execute_result"
    }
   ],
   "source": [
    "df.dtypes"
   ]
  },
  {
   "cell_type": "markdown",
   "metadata": {},
   "source": [
    "### Classifiying the columns with data-types -\n",
    "#### 1.Numerical Data\n",
    "#### 2. Categorical Data\n",
    "##### a) Two Categories (default, housing, loan)\n",
    "    Can be encoded by mapping 0 and 1 directly\n",
    "##### b) Multiple Categories - no hierarcy (job, marital, contact, month, day_of_week, poutcome)\n",
    "    Can be encoded by create a separate column for each category\n",
    "##### c) Multiple Categories - hierarcy (education)\n",
    "    Can be encoded by assigning levels in a single category (0,1,2,etc)"
   ]
  },
  {
   "cell_type": "code",
   "execution_count": 4,
   "metadata": {
    "collapsed": false
   },
   "outputs": [],
   "source": [
    "numeric = ['age', 'duration', 'campaign', 'pdays', 'previous', 'emp.var.rate', 'cons.price.idx', 'cons.conf.idx', \n",
    "           'euribor3m', 'nr.employed',]\n",
    "binary = ['default', 'housing', 'loan']\n",
    "categorical = ['poutcome', 'job', 'marital', 'contact', 'month','day_of_week']\n",
    "hierarchy = ['education']"
   ]
  },
  {
   "cell_type": "markdown",
   "metadata": {},
   "source": [
    "## Unknowns - dealing with null values\n",
    "\n",
    "To start with let's calculate how much is 1% of the data. If a column contains null values less than that, we'll simply delete those rows."
   ]
  },
  {
   "cell_type": "code",
   "execution_count": 5,
   "metadata": {
    "collapsed": false
   },
   "outputs": [
    {
     "name": "stdout",
     "output_type": "stream",
     "text": [
      "1% of the total data means 412 out of 41188.\n"
     ]
    }
   ],
   "source": [
    "#Calculating 1% of the total data\n",
    "print (\"1% of the total data means \" + str(round(0.01 * len(df))) + \" out of \" + str(len(df)) + \".\")"
   ]
  },
  {
   "cell_type": "markdown",
   "metadata": {},
   "source": [
    "### Deleting smaller unknowns"
   ]
  },
  {
   "cell_type": "markdown",
   "metadata": {},
   "source": [
    "<pre><code>for i in binary+categorical+hierarchy:\n",
    "    print(df[i].value_counts())</code></pre>\n",
    "    \n",
    "It was observed from this code that there are unknown values in the categorical columns, which is essentially null values. Let us only entertain the unknowns if the total number unknowns is more than 1% of that data (round that up to 500)"
   ]
  },
  {
   "cell_type": "code",
   "execution_count": 6,
   "metadata": {
    "collapsed": false
   },
   "outputs": [
    {
     "name": "stdout",
     "output_type": "stream",
     "text": [
      "Column default - still contains unknowns\n",
      "Column housing - still contains unknowns\n",
      "Column loan - still contains unknowns\n",
      "Column education - still contains unknowns\n"
     ]
    }
   ],
   "source": [
    "null_cols = []\n",
    "for column in binary+categorical+hierarchy:\n",
    "    #Delete few unknowns\n",
    "    if len(df.loc[df[column] == 'unknown']['y']) < 500:\n",
    "        df = df[df[column] != 'unknown']\n",
    "    elif len(df.loc[df[column] == 'unknown']['y']) > 500:\n",
    "        #Find which columns have still retained unkowns\n",
    "        print(\"Column {} - still contains unknowns\".format(column))\n",
    "        null_cols.append(column)"
   ]
  },
  {
   "cell_type": "markdown",
   "metadata": {},
   "source": [
    "### Encoding categorical variables\n",
    "#### 1. Binary"
   ]
  },
  {
   "cell_type": "code",
   "execution_count": 7,
   "metadata": {
    "collapsed": false
   },
   "outputs": [
    {
     "data": {
      "text/html": [
       "<div>\n",
       "<table border=\"1\" class=\"dataframe\">\n",
       "  <thead>\n",
       "    <tr style=\"text-align: right;\">\n",
       "      <th></th>\n",
       "      <th>default</th>\n",
       "      <th>housing</th>\n",
       "      <th>loan</th>\n",
       "    </tr>\n",
       "  </thead>\n",
       "  <tbody>\n",
       "    <tr>\n",
       "      <th>0</th>\n",
       "      <td>0.0</td>\n",
       "      <td>0.0</td>\n",
       "      <td>0.0</td>\n",
       "    </tr>\n",
       "    <tr>\n",
       "      <th>1</th>\n",
       "      <td>NaN</td>\n",
       "      <td>0.0</td>\n",
       "      <td>0.0</td>\n",
       "    </tr>\n",
       "    <tr>\n",
       "      <th>2</th>\n",
       "      <td>0.0</td>\n",
       "      <td>1.0</td>\n",
       "      <td>0.0</td>\n",
       "    </tr>\n",
       "    <tr>\n",
       "      <th>3</th>\n",
       "      <td>0.0</td>\n",
       "      <td>0.0</td>\n",
       "      <td>0.0</td>\n",
       "    </tr>\n",
       "    <tr>\n",
       "      <th>4</th>\n",
       "      <td>0.0</td>\n",
       "      <td>0.0</td>\n",
       "      <td>1.0</td>\n",
       "    </tr>\n",
       "  </tbody>\n",
       "</table>\n",
       "</div>"
      ],
      "text/plain": [
       "   default  housing  loan\n",
       "0      0.0      0.0   0.0\n",
       "1      NaN      0.0   0.0\n",
       "2      0.0      1.0   0.0\n",
       "3      0.0      0.0   0.0\n",
       "4      0.0      0.0   1.0"
      ]
     },
     "execution_count": 7,
     "metadata": {},
     "output_type": "execute_result"
    }
   ],
   "source": [
    "def binary_encoding(df,binary=binary): # Map 0 and 1\n",
    "    for column in binary: \n",
    "        df[column] = df[column].map({'yes':1,'no':0}) #Warning: This changes 'unknown' into NaN\n",
    "    return df\n",
    "df = binary_encoding(df)\n",
    "df[binary].head()"
   ]
  },
  {
   "cell_type": "markdown",
   "metadata": {},
   "source": [
    "#### 2. Hierarchical"
   ]
  },
  {
   "cell_type": "code",
   "execution_count": 8,
   "metadata": {
    "collapsed": false
   },
   "outputs": [],
   "source": [
    "\"\"\" This is specific for education. We need a manually created hierarcy as an input here.\"\"\"\n",
    "values = [\"illiterate\", \"basic.4y\", \"basic.6y\", \"basic.9y\", \"high.school\",  \"professional.course\", \"university.degree\"]\n",
    "levels = range(1,len(values)+1)\n",
    "dictionary = dict(zip(values,levels))\n",
    "df['education']=df['education'].map(dictionary)\n",
    "df['education'] = df['education'].replace('unknown', np.nan, regex=True)\n",
    "#df['education']"
   ]
  },
  {
   "cell_type": "markdown",
   "metadata": {},
   "source": [
    "#### 3. Categorical"
   ]
  },
  {
   "cell_type": "code",
   "execution_count": 9,
   "metadata": {
    "collapsed": false
   },
   "outputs": [],
   "source": [
    "def categorical_encoding(df,categorical=categorical):\n",
    "    for column in categorical:\n",
    "        \n",
    "        dummies = pd.get_dummies(df[column])\n",
    "        dummies = dummies.rename(columns = lambda x: column + '_' + str(x))\n",
    "        \n",
    "        df = pd.concat([df,dummies],axis=1)\n",
    "        df = df.drop(column,axis=1)\n",
    "    return df\n",
    "\n",
    "df = categorical_encoding(df)\n",
    "#list(df.columns)"
   ]
  },
  {
   "cell_type": "markdown",
   "metadata": {},
   "source": [
    "### Investigate for null values in numerical columns"
   ]
  },
  {
   "cell_type": "code",
   "execution_count": 10,
   "metadata": {
    "collapsed": false
   },
   "outputs": [
    {
     "name": "stdout",
     "output_type": "stream",
     "text": [
      "Null Values - \n",
      " age - 0\n",
      " duration - 0\n",
      " campaign - 0\n",
      " pdays - 0\n",
      " previous - 0\n",
      " emp.var.rate - 0\n",
      " cons.price.idx - 0\n",
      " cons.conf.idx - 0\n",
      " euribor3m - 0\n",
      " nr.employed - 0\n"
     ]
    }
   ],
   "source": [
    "print (\"Null Values - \")\n",
    "for column in numeric:\n",
    "    null = sum(df[column].isnull())\n",
    "    print (\" {} - {}\".format(column, str(null)))\n",
    "    if null > 0:\n",
    "        null_cols.append(column)"
   ]
  },
  {
   "cell_type": "markdown",
   "metadata": {},
   "source": [
    "Now, we can move forward and predict the missing data using random forest. But before doing that, let's scale the numerical data first so that our random forest predictions are more accurate as well.\n",
    "\n",
    "## Scaling"
   ]
  },
  {
   "cell_type": "code",
   "execution_count": 11,
   "metadata": {
    "collapsed": false
   },
   "outputs": [],
   "source": [
    "scaler = preprocessing.StandardScaler()\n",
    "df[numeric] = scaler.fit_transform(df[numeric])"
   ]
  },
  {
   "cell_type": "markdown",
   "metadata": {},
   "source": [
    "### Use random forest to fill null values in default, housing, loan and education\n",
    "\n",
    "Before we start this process. We have to encode y as well."
   ]
  },
  {
   "cell_type": "code",
   "execution_count": 12,
   "metadata": {
    "collapsed": false
   },
   "outputs": [],
   "source": [
    "#encoding y\n",
    "df['y'] = df['y'].map({'yes':1,'no':0})"
   ]
  },
  {
   "cell_type": "code",
   "execution_count": 13,
   "metadata": {
    "collapsed": true
   },
   "outputs": [],
   "source": [
    "def predict_unknown(trainX, trainY, testX):\n",
    "    \"\"\" Predicting unknown data using random forest\"\"\"\n",
    "    forest = RandomForestClassifier(n_estimators=100)\n",
    "    forest = forest.fit(trainX, trainY)\n",
    "    test_predictY = forest.predict(testX).astype(int)\n",
    "    return pd.DataFrame(test_predictY,index=testX.index)"
   ]
  },
  {
   "cell_type": "code",
   "execution_count": 14,
   "metadata": {
    "collapsed": false
   },
   "outputs": [
    {
     "name": "stdout",
     "output_type": "stream",
     "text": [
      "['default', 'housing', 'loan', 'education']\n"
     ]
    }
   ],
   "source": [
    "print(null_cols)"
   ]
  },
  {
   "cell_type": "code",
   "execution_count": 15,
   "metadata": {
    "collapsed": false
   },
   "outputs": [],
   "source": [
    "#test_data = df[df['default'].isnull()]\n",
    "#test_data"
   ]
  },
  {
   "cell_type": "code",
   "execution_count": 16,
   "metadata": {
    "collapsed": false
   },
   "outputs": [
    {
     "name": "stderr",
     "output_type": "stream",
     "text": [
      "C:\\Users\\labuser\\Anaconda3\\lib\\site-packages\\ipykernel\\__main__.py:9: SettingWithCopyWarning: \n",
      "A value is trying to be set on a copy of a slice from a DataFrame.\n",
      "Try using .loc[row_indexer,col_indexer] = value instead\n",
      "\n",
      "See the caveats in the documentation: http://pandas.pydata.org/pandas-docs/stable/indexing.html#indexing-view-versus-copy\n",
      "C:\\Users\\labuser\\Anaconda3\\lib\\site-packages\\ipykernel\\__main__.py:9: SettingWithCopyWarning: \n",
      "A value is trying to be set on a copy of a slice from a DataFrame.\n",
      "Try using .loc[row_indexer,col_indexer] = value instead\n",
      "\n",
      "See the caveats in the documentation: http://pandas.pydata.org/pandas-docs/stable/indexing.html#indexing-view-versus-copy\n",
      "C:\\Users\\labuser\\Anaconda3\\lib\\site-packages\\ipykernel\\__main__.py:9: SettingWithCopyWarning: \n",
      "A value is trying to be set on a copy of a slice from a DataFrame.\n",
      "Try using .loc[row_indexer,col_indexer] = value instead\n",
      "\n",
      "See the caveats in the documentation: http://pandas.pydata.org/pandas-docs/stable/indexing.html#indexing-view-versus-copy\n",
      "C:\\Users\\labuser\\Anaconda3\\lib\\site-packages\\ipykernel\\__main__.py:9: SettingWithCopyWarning: \n",
      "A value is trying to be set on a copy of a slice from a DataFrame.\n",
      "Try using .loc[row_indexer,col_indexer] = value instead\n",
      "\n",
      "See the caveats in the documentation: http://pandas.pydata.org/pandas-docs/stable/indexing.html#indexing-view-versus-copy\n"
     ]
    }
   ],
   "source": [
    "for column in null_cols:\n",
    "    test_data = df[df[column].isnull()]\n",
    "    testX = test_data.drop(null_cols, axis=1)\n",
    "    train_data = df[df[column].notnull()]        \n",
    "    trainY = train_data[column]\n",
    "    trainX = train_data.drop(null_cols, axis=1)\n",
    "    #print(trainX.isnull().sum())\n",
    "    #print(trainY.value_counts())\n",
    "    test_data[column] = predict_unknown(trainX, trainY, testX)\n",
    "    df = pd.concat([train_data, test_data])"
   ]
  },
  {
   "cell_type": "code",
   "execution_count": 17,
   "metadata": {
    "collapsed": false
   },
   "outputs": [
    {
     "name": "stdout",
     "output_type": "stream",
     "text": [
      "Null Values - \n",
      "\n",
      " age - 0\n",
      " education - 0\n",
      " default - 0\n",
      " housing - 0\n",
      " loan - 0\n",
      " duration - 0\n",
      " campaign - 0\n",
      " pdays - 0\n",
      " previous - 0\n",
      " emp.var.rate - 0\n",
      " cons.price.idx - 0\n",
      " cons.conf.idx - 0\n",
      " euribor3m - 0\n",
      " nr.employed - 0\n",
      " y - 0\n",
      " poutcome_failure - 0\n",
      " poutcome_nonexistent - 0\n",
      " poutcome_success - 0\n",
      " job_admin. - 0\n",
      " job_blue-collar - 0\n",
      " job_entrepreneur - 0\n",
      " job_housemaid - 0\n",
      " job_management - 0\n",
      " job_retired - 0\n",
      " job_self-employed - 0\n",
      " job_services - 0\n",
      " job_student - 0\n",
      " job_technician - 0\n",
      " job_unemployed - 0\n",
      " marital_divorced - 0\n",
      " marital_married - 0\n",
      " marital_single - 0\n",
      " contact_cellular - 0\n",
      " contact_telephone - 0\n",
      " month_apr - 0\n",
      " month_aug - 0\n",
      " month_dec - 0\n",
      " month_jul - 0\n",
      " month_jun - 0\n",
      " month_mar - 0\n",
      " month_may - 0\n",
      " month_nov - 0\n",
      " month_oct - 0\n",
      " month_sep - 0\n",
      " day_of_week_fri - 0\n",
      " day_of_week_mon - 0\n",
      " day_of_week_thu - 0\n",
      " day_of_week_tue - 0\n",
      " day_of_week_wed - 0\n"
     ]
    }
   ],
   "source": [
    "print (\"Null Values - \\n\")\n",
    "for column in list(df.columns):\n",
    "    null = sum(df[column].isnull())\n",
    "    print (\" {} - {}\".format(column, str(null)))"
   ]
  },
  {
   "cell_type": "markdown",
   "metadata": {},
   "source": [
    "## Here's is how final data looks like -"
   ]
  },
  {
   "cell_type": "code",
   "execution_count": 18,
   "metadata": {
    "collapsed": false
   },
   "outputs": [
    {
     "data": {
      "text/html": [
       "<div>\n",
       "<table border=\"1\" class=\"dataframe\">\n",
       "  <thead>\n",
       "    <tr style=\"text-align: right;\">\n",
       "      <th></th>\n",
       "      <th>age</th>\n",
       "      <th>education</th>\n",
       "      <th>default</th>\n",
       "      <th>housing</th>\n",
       "      <th>loan</th>\n",
       "      <th>duration</th>\n",
       "      <th>campaign</th>\n",
       "      <th>pdays</th>\n",
       "      <th>previous</th>\n",
       "      <th>emp.var.rate</th>\n",
       "      <th>...</th>\n",
       "      <th>month_mar</th>\n",
       "      <th>month_may</th>\n",
       "      <th>month_nov</th>\n",
       "      <th>month_oct</th>\n",
       "      <th>month_sep</th>\n",
       "      <th>day_of_week_fri</th>\n",
       "      <th>day_of_week_mon</th>\n",
       "      <th>day_of_week_thu</th>\n",
       "      <th>day_of_week_tue</th>\n",
       "      <th>day_of_week_wed</th>\n",
       "    </tr>\n",
       "  </thead>\n",
       "  <tbody>\n",
       "    <tr>\n",
       "      <th>0</th>\n",
       "      <td>1.540198</td>\n",
       "      <td>2.0</td>\n",
       "      <td>0.0</td>\n",
       "      <td>0.0</td>\n",
       "      <td>0.0</td>\n",
       "      <td>0.010299</td>\n",
       "      <td>-0.565778</td>\n",
       "      <td>0.19472</td>\n",
       "      <td>-0.349341</td>\n",
       "      <td>0.649306</td>\n",
       "      <td>...</td>\n",
       "      <td>0</td>\n",
       "      <td>1</td>\n",
       "      <td>0</td>\n",
       "      <td>0</td>\n",
       "      <td>0</td>\n",
       "      <td>0</td>\n",
       "      <td>1</td>\n",
       "      <td>0</td>\n",
       "      <td>0</td>\n",
       "      <td>0</td>\n",
       "    </tr>\n",
       "    <tr>\n",
       "      <th>2</th>\n",
       "      <td>-0.286369</td>\n",
       "      <td>5.0</td>\n",
       "      <td>0.0</td>\n",
       "      <td>1.0</td>\n",
       "      <td>0.0</td>\n",
       "      <td>-0.124697</td>\n",
       "      <td>-0.565778</td>\n",
       "      <td>0.19472</td>\n",
       "      <td>-0.349341</td>\n",
       "      <td>0.649306</td>\n",
       "      <td>...</td>\n",
       "      <td>0</td>\n",
       "      <td>1</td>\n",
       "      <td>0</td>\n",
       "      <td>0</td>\n",
       "      <td>0</td>\n",
       "      <td>0</td>\n",
       "      <td>1</td>\n",
       "      <td>0</td>\n",
       "      <td>0</td>\n",
       "      <td>0</td>\n",
       "    </tr>\n",
       "    <tr>\n",
       "      <th>3</th>\n",
       "      <td>0.002036</td>\n",
       "      <td>3.0</td>\n",
       "      <td>0.0</td>\n",
       "      <td>0.0</td>\n",
       "      <td>0.0</td>\n",
       "      <td>-0.413975</td>\n",
       "      <td>-0.565778</td>\n",
       "      <td>0.19472</td>\n",
       "      <td>-0.349341</td>\n",
       "      <td>0.649306</td>\n",
       "      <td>...</td>\n",
       "      <td>0</td>\n",
       "      <td>1</td>\n",
       "      <td>0</td>\n",
       "      <td>0</td>\n",
       "      <td>0</td>\n",
       "      <td>0</td>\n",
       "      <td>1</td>\n",
       "      <td>0</td>\n",
       "      <td>0</td>\n",
       "      <td>0</td>\n",
       "    </tr>\n",
       "    <tr>\n",
       "      <th>4</th>\n",
       "      <td>1.540198</td>\n",
       "      <td>5.0</td>\n",
       "      <td>0.0</td>\n",
       "      <td>0.0</td>\n",
       "      <td>1.0</td>\n",
       "      <td>0.187723</td>\n",
       "      <td>-0.565778</td>\n",
       "      <td>0.19472</td>\n",
       "      <td>-0.349341</td>\n",
       "      <td>0.649306</td>\n",
       "      <td>...</td>\n",
       "      <td>0</td>\n",
       "      <td>1</td>\n",
       "      <td>0</td>\n",
       "      <td>0</td>\n",
       "      <td>0</td>\n",
       "      <td>0</td>\n",
       "      <td>1</td>\n",
       "      <td>0</td>\n",
       "      <td>0</td>\n",
       "      <td>0</td>\n",
       "    </tr>\n",
       "    <tr>\n",
       "      <th>6</th>\n",
       "      <td>1.828603</td>\n",
       "      <td>6.0</td>\n",
       "      <td>0.0</td>\n",
       "      <td>0.0</td>\n",
       "      <td>0.0</td>\n",
       "      <td>-0.460259</td>\n",
       "      <td>-0.565778</td>\n",
       "      <td>0.19472</td>\n",
       "      <td>-0.349341</td>\n",
       "      <td>0.649306</td>\n",
       "      <td>...</td>\n",
       "      <td>0</td>\n",
       "      <td>1</td>\n",
       "      <td>0</td>\n",
       "      <td>0</td>\n",
       "      <td>0</td>\n",
       "      <td>0</td>\n",
       "      <td>1</td>\n",
       "      <td>0</td>\n",
       "      <td>0</td>\n",
       "      <td>0</td>\n",
       "    </tr>\n",
       "  </tbody>\n",
       "</table>\n",
       "<p>5 rows × 49 columns</p>\n",
       "</div>"
      ],
      "text/plain": [
       "        age  education  default  housing  loan  duration  campaign    pdays  \\\n",
       "0  1.540198        2.0      0.0      0.0   0.0  0.010299 -0.565778  0.19472   \n",
       "2 -0.286369        5.0      0.0      1.0   0.0 -0.124697 -0.565778  0.19472   \n",
       "3  0.002036        3.0      0.0      0.0   0.0 -0.413975 -0.565778  0.19472   \n",
       "4  1.540198        5.0      0.0      0.0   1.0  0.187723 -0.565778  0.19472   \n",
       "6  1.828603        6.0      0.0      0.0   0.0 -0.460259 -0.565778  0.19472   \n",
       "\n",
       "   previous  emp.var.rate       ...         month_mar  month_may  month_nov  \\\n",
       "0 -0.349341      0.649306       ...                 0          1          0   \n",
       "2 -0.349341      0.649306       ...                 0          1          0   \n",
       "3 -0.349341      0.649306       ...                 0          1          0   \n",
       "4 -0.349341      0.649306       ...                 0          1          0   \n",
       "6 -0.349341      0.649306       ...                 0          1          0   \n",
       "\n",
       "   month_oct  month_sep  day_of_week_fri  day_of_week_mon  day_of_week_thu  \\\n",
       "0          0          0                0                1                0   \n",
       "2          0          0                0                1                0   \n",
       "3          0          0                0                1                0   \n",
       "4          0          0                0                1                0   \n",
       "6          0          0                0                1                0   \n",
       "\n",
       "   day_of_week_tue  day_of_week_wed  \n",
       "0                0                0  \n",
       "2                0                0  \n",
       "3                0                0  \n",
       "4                0                0  \n",
       "6                0                0  \n",
       "\n",
       "[5 rows x 49 columns]"
      ]
     },
     "execution_count": 18,
     "metadata": {},
     "output_type": "execute_result"
    }
   ],
   "source": [
    "df.head()"
   ]
  },
  {
   "cell_type": "code",
   "execution_count": null,
   "metadata": {
    "collapsed": false
   },
   "outputs": [],
   "source": []
  },
  {
   "cell_type": "code",
   "execution_count": null,
   "metadata": {
    "collapsed": false
   },
   "outputs": [],
   "source": []
  }
 ],
 "metadata": {
  "kernelspec": {
   "display_name": "Python 3",
   "language": "python",
   "name": "python3"
  },
  "language_info": {
   "codemirror_mode": {
    "name": "ipython",
    "version": 3
   },
   "file_extension": ".py",
   "mimetype": "text/x-python",
   "name": "python",
   "nbconvert_exporter": "python",
   "pygments_lexer": "ipython3",
   "version": "3.6.0"
  }
 },
 "nbformat": 4,
 "nbformat_minor": 2
}
