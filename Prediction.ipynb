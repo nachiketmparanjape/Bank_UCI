{
 "cells": [
  {
   "cell_type": "markdown",
   "metadata": {},
   "source": [
    "## Prediction\n",
    "\n",
    "### Random Forest\n",
    "\n",
    "Let's try random forest. I'd like to start with random forest because I will like to see how different features stack up using feature importances.\n",
    "\n",
    "#### Import Data"
   ]
  },
  {
   "cell_type": "code",
   "execution_count": 2,
   "metadata": {
    "collapsed": false
   },
   "outputs": [],
   "source": [
    "import pandas as pd\n",
    "\n",
    "pd.set_option('display.max_columns', None)\n",
    "df = pd.read_csv(\"clean_data_basic_pdayscat_agecat.csv\",index_col=False)"
   ]
  },
  {
   "cell_type": "code",
   "execution_count": 22,
   "metadata": {
    "collapsed": false
   },
   "outputs": [],
   "source": [
    "#Let's take all the features in for prediction\n",
    "predictors = list(df.drop('y',axis=1).columns)\n",
    "# df[predictors].head()"
   ]
  },
  {
   "cell_type": "code",
   "execution_count": 27,
   "metadata": {
    "collapsed": false
   },
   "outputs": [
    {
     "name": "stdout",
     "output_type": "stream",
     "text": [
      "(28550, 50)\n",
      "(28550,)\n"
     ]
    }
   ],
   "source": [
    "#Train Test Split\n",
    "from sklearn.model_selection import train_test_split\n",
    "\n",
    "X, Xtest, y, ytest = train_test_split(df[predictors],df['y'],random_state=5,test_size=0.3)\n",
    "print (X.shape)\n",
    "print (y.shape)"
   ]
  },
  {
   "cell_type": "markdown",
   "metadata": {},
   "source": [
    "#### Some Random Forest Parameters\n",
    "** 1. n_estimators - ** The number of trees in the forest\n",
    "\n",
    "** 2. gini - ** The function to measure the quality of a split. Supported criteria are “gini” for the Gini impurity and\n",
    "                “entropy” for the information gain. Note: this parameter is tree-specific.\n",
    "                \n",
    "** 3. max_features - ** The number of features to consider when looking for the best split\n",
    "\n",
    "** 4. max_features - ** The number of features to consider when looking for the best split\n",
    "\n",
    "** 5. min_samples_leaf - ** The number of trees in the forest\n",
    "\n",
    "** 6. n_estimators - ** The number of trees in the forest"
   ]
  },
  {
   "cell_type": "code",
   "execution_count": 29,
   "metadata": {
    "collapsed": false
   },
   "outputs": [
    {
     "name": "stdout",
     "output_type": "stream",
     "text": [
      "Result (recall) = 0.2849358472706779\n",
      "Result (F1) = 0.20108989776987696\n"
     ]
    }
   ],
   "source": [
    "from sklearn import cross_validation\n",
    "from sklearn.ensemble import RandomForestClassifier\n",
    "from sklearn.cross_validation import KFold\n",
    "from sklearn.model_selection import cross_val_predict, cross_val_score\n",
    "from sklearn.model_selection import ShuffleSplit\n",
    "from sklearn.metrics import recall_score, f1_score, confusion_matrix\n",
    "\n",
    "\n",
    "import numpy as np\n",
    "\n",
    "# Initialize our algorithm with the default paramters\n",
    "# n_estimators is the number of trees we want to make\n",
    "# min_samples_split is the minimum number of rows we need to make a split\n",
    "# min_samples_leaf is the minimum number of samples we can have at the place where a tree branch ends (the bottom points of the tree)\n",
    "rf = RandomForestClassifier(n_estimators=100)\n",
    "kf = KFold(X.shape[0], n_folds=5, random_state=1)\n",
    "cv = ShuffleSplit(n_splits=50, test_size=0.3, random_state=50)\n",
    "\n",
    "predictions = cross_validation.cross_val_predict(rf, X,y,cv=kf)\n",
    "predictions = pd.Series(predictions)\n",
    "print (Result (F1) = {}.format(f1_score()))\n",
    "\n",
    "# scores = cross_val_score(rf, X.values, y.values, scoring='recall', cv=kf)\n",
    "# Take the mean of the scores (because we have one for each fold)\n",
    "print(\"Result (recall) = {}\".format(scores.mean()))\n",
    "print (\"Result (F1) = 0.20108989776987696\")\n",
    "# Result without StandardScaler = 0.407736233312\n",
    "# print(\"Result with StandardScaler = 0.398665365295\")"
   ]
  },
  {
   "cell_type": "markdown",
   "metadata": {},
   "source": [
    "I want to swing different parameters to see how accuracy changes\n",
    "\n",
    "**1. n_estimators**"
   ]
  },
  {
   "cell_type": "code",
   "execution_count": 11,
   "metadata": {
    "collapsed": false
   },
   "outputs": [],
   "source": [
    "predictors = list(df.drop('y',axis=1).columns)\n",
    "\n",
    "kf = KFold(df.shape[0], n_folds=5, random_state=1)\n",
    "# cv = ShuffleSplit(n_splits=50, test_size=0.3, random_state=50)\n",
    "scorelist = []\n",
    "r = list(range(1,100,2))\n",
    "\n",
    "for i in r:\n",
    "    \n",
    "    rf = RandomForestClassifier(random_state=1, n_estimators=i, min_samples_split=10, \n",
    "                            min_samples_leaf=10)\n",
    "    scores = cross_val_score(rf, df[predictors], df[\"y\"], scoring='recall', cv=kf)\n",
    "    scorelist.append(scores.mean())"
   ]
  },
  {
   "cell_type": "code",
   "execution_count": 12,
   "metadata": {
    "collapsed": false
   },
   "outputs": [
    {
     "data": {
      "text/plain": [
       "[<matplotlib.lines.Line2D at 0xa98c7f0>]"
      ]
     },
     "execution_count": 12,
     "metadata": {},
     "output_type": "execute_result"
    },
    {
     "data": {
      "image/png": "[encoded data removed]",
      "text/plain": [
       "<matplotlib.figure.Figure at 0xa89a0f0>"
      ]
     },
     "metadata": {},
     "output_type": "display_data"
    }
   ],
   "source": [
    "#Plotting\n",
    "import matplotlib.pyplot as plt\n",
    "%matplotlib inline\n",
    "\n",
    "plt.figure(figsize=(7,4))\n",
    "plt.title(\"Sweeping - n_estimators\")\n",
    "plt.plot(r,scorelist)"
   ]
  },
  {
   "cell_type": "markdown",
   "metadata": {},
   "source": [
    "**2. min_samples_split**"
   ]
  },
  {
   "cell_type": "code",
   "execution_count": null,
   "metadata": {
    "collapsed": true
   },
   "outputs": [],
   "source": [
    "predictors = list(df.drop('y',axis=1).columns)\n",
    "\n",
    "kf = KFold(df.shape[0], n_folds=5, random_state=1)\n",
    "cv = ShuffleSplit(n_splits=50, test_size=0.3, random_state=50)\n",
    "scorelist = []\n",
    "r = list(range(10,100,10))\n",
    "\n",
    "for i in r:\n",
    "    \n",
    "    rf = RandomForestClassifier(random_state=1, n_estimators=100, min_samples_split=i, \n",
    "                            min_samples_leaf=10)\n",
    "    scores = cross_val_score(rf, df[predictors], df[\"y\"], scoring='recall', cv=kf)\n",
    "    scorelist.append(scores.mean())"
   ]
  },
  {
   "cell_type": "code",
   "execution_count": null,
   "metadata": {
    "collapsed": true
   },
   "outputs": [],
   "source": [
    "#Plotting\n",
    "plt.figure(figsize=(7,4))\n",
    "plt.title(\"Sweeping - min_samples_split\")\n",
    "plt.plot(r,scorelist)"
   ]
  },
  {
   "cell_type": "code",
   "execution_count": null,
   "metadata": {
    "collapsed": true
   },
   "outputs": [],
   "source": [
    "#Plotting\n",
    "#plt.figure(figsize=(7,4))\n",
    "#plt.title(\"Sweeping - min_samples_split\")\n",
    "#plt.plot(r,scorelist)"
   ]
  },
  {
   "cell_type": "markdown",
   "metadata": {},
   "source": [
    "**2. min_samples_leaf**"
   ]
  },
  {
   "cell_type": "code",
   "execution_count": null,
   "metadata": {
    "collapsed": true
   },
   "outputs": [],
   "source": [
    "predictors = list(df.drop('y',axis=1).columns)\n",
    "\n",
    "kf = KFold(df.shape[0], n_folds=5, random_state=1)\n",
    "cv = ShuffleSplit(n_splits=50, test_size=0.3, random_state=50)\n",
    "scorelist = []\n",
    "r = list(range(2,500,10))\n",
    "\n",
    "for i in r:\n",
    "    \n",
    "    rf = RandomForestClassifier(random_state=1, n_estimators=100, min_samples_split=62, \n",
    "                            min_samples_leaf=i)\n",
    "    \n",
    "    predictions = cross_validation.cross_val_predict(rf, df[predictors],df[\"y\"],cv=kf)\n",
    "    predictions = pd.Series(predictions)\n",
    "    scores = cross_val_score(rf, df[predictors], df[\"y\"], scoring='f1', cv=kf)\n",
    "    scorelist.append(scores.mean())"
   ]
  },
  {
   "cell_type": "code",
   "execution_count": null,
   "metadata": {
    "collapsed": true
   },
   "outputs": [],
   "source": [
    "#Plotting\n",
    "plt.figure(figsize=(7,4))\n",
    "plt.title(\"Sweeping - min_samples_leaf\")\n",
    "plt.plot(r,scorelist)"
   ]
  },
  {
   "cell_type": "markdown",
   "metadata": {},
   "source": [
    "##### Different Parameters"
   ]
  },
  {
   "cell_type": "code",
   "execution_count": 31,
   "metadata": {
    "collapsed": false
   },
   "outputs": [
    {
     "name": "stdout",
     "output_type": "stream",
     "text": [
      "0.202292400521\n"
     ]
    }
   ],
   "source": [
    "rf = RandomForestClassifier(random_state=1, n_estimators=100)\n",
    "rf.fit(df[predictors],df[\"y\"])\n",
    "kf = KFold(df.shape[0], n_folds=5, random_state=1)\n",
    "predictions = cross_validation.cross_val_predict(rf, df[predictors],df[\"y\"],cv=kf)\n",
    "predictions = pd.Series(predictions)\n",
    "scores = cross_val_score(rf, df[predictors], df[\"y\"],scoring='f1', cv=kf)\n",
    "# Take the mean of the scores (because we have one for each fold)\n",
    "print(scores.mean())"
   ]
  },
  {
   "cell_type": "code",
   "execution_count": null,
   "metadata": {
    "collapsed": false
   },
   "outputs": [],
   "source": []
  },
  {
   "cell_type": "markdown",
   "metadata": {},
   "source": [
    "### Important Features"
   ]
  },
  {
   "cell_type": "code",
   "execution_count": 10,
   "metadata": {
    "collapsed": false
   },
   "outputs": [
    {
     "ename": "NameError",
     "evalue": "name 'plt' is not defined",
     "output_type": "error",
     "traceback": [
      "\u001b[0;31m---------------------------------------------------------------------------\u001b[0m",
      "\u001b[0;31mNameError\u001b[0m                                 Traceback (most recent call last)",
      "\u001b[0;32m<ipython-input-10-52f06972b21e>\u001b[0m in \u001b[0;36m<module>\u001b[0;34m()\u001b[0m\n\u001b[1;32m      7\u001b[0m     \u001b[0msorted_important_features\u001b[0m\u001b[1;33m.\u001b[0m\u001b[0mappend\u001b[0m\u001b[1;33m(\u001b[0m\u001b[0mpredictors\u001b[0m\u001b[1;33m[\u001b[0m\u001b[0mi\u001b[0m\u001b[1;33m]\u001b[0m\u001b[1;33m)\u001b[0m\u001b[1;33m\u001b[0m\u001b[0m\n\u001b[1;32m      8\u001b[0m \u001b[1;31m#predictors=titanic.columns\u001b[0m\u001b[1;33m\u001b[0m\u001b[1;33m\u001b[0m\u001b[0m\n\u001b[0;32m----> 9\u001b[0;31m \u001b[0mplt\u001b[0m\u001b[1;33m.\u001b[0m\u001b[0mfigure\u001b[0m\u001b[1;33m(\u001b[0m\u001b[0mfigsize\u001b[0m\u001b[1;33m=\u001b[0m\u001b[1;33m(\u001b[0m\u001b[1;36m15\u001b[0m\u001b[1;33m,\u001b[0m\u001b[1;36m10\u001b[0m\u001b[1;33m)\u001b[0m\u001b[1;33m)\u001b[0m\u001b[1;33m\u001b[0m\u001b[0m\n\u001b[0m\u001b[1;32m     10\u001b[0m \u001b[0mplt\u001b[0m\u001b[1;33m.\u001b[0m\u001b[0mtitle\u001b[0m\u001b[1;33m(\u001b[0m\u001b[1;34m\"Feature Importances By Random Forest Model\"\u001b[0m\u001b[1;33m)\u001b[0m\u001b[1;33m\u001b[0m\u001b[0m\n\u001b[1;32m     11\u001b[0m plt.bar(range(np.size(predictors)), importances[indices],\n",
      "\u001b[0;31mNameError\u001b[0m: name 'plt' is not defined"
     ]
    }
   ],
   "source": [
    "importances=rf.feature_importances_\n",
    "std = np.std([rf.feature_importances_ for tree in rf.estimators_],\n",
    "             axis=0)\n",
    "indices = np.argsort(importances)[::-1]\n",
    "sorted_important_features=[]\n",
    "for i in indices:\n",
    "    sorted_important_features.append(predictors[i])\n",
    "#predictors=titanic.columns\n",
    "plt.figure(figsize=(15,10))\n",
    "plt.title(\"Feature Importances By Random Forest Model\")\n",
    "plt.bar(range(np.size(predictors)), importances[indices],\n",
    "       color=\"r\", yerr=std[indices], align=\"center\")\n",
    "plt.xticks(range(np.size(predictors)), sorted_important_features, rotation='vertical')\n",
    "\n",
    "plt.xlim([-1, np.size(predictors)])\n",
    "print(sorted_important_features[0:5])"
   ]
  },
  {
   "cell_type": "markdown",
   "metadata": {},
   "source": [
    "Let's try by only selecting the top features until housing. Same parameters."
   ]
  },
  {
   "cell_type": "code",
   "execution_count": null,
   "metadata": {
    "collapsed": true
   },
   "outputs": [],
   "source": [
    "predictors = sorted_important_features[0:12]\n",
    "\n",
    "rf = RandomForestClassifier(random_state=1, n_estimators=100)\n",
    "rf.fit(df[predictors],df[\"y\"])\n",
    "kf = KFold(df.shape[0], n_folds=5, random_state=1)\n",
    "predictions = cross_validation.cross_val_predict(rf, df[predictors],df[\"y\"],cv=kf)\n",
    "predictions = pd.Series(predictions)\n",
    "scores = cross_val_score(rf, df[predictors], df[\"y\"],scoring='f1', cv=kf)\n",
    "# Take the mean of the scores (because we have one for each fold)\n",
    "print(scores.mean())"
   ]
  },
  {
   "cell_type": "code",
   "execution_count": null,
   "metadata": {
    "collapsed": true
   },
   "outputs": [],
   "source": [
    "len(df)*0.01"
   ]
  },
  {
   "cell_type": "code",
   "execution_count": null,
   "metadata": {
    "collapsed": true
   },
   "outputs": [],
   "source": []
  },
  {
   "cell_type": "code",
   "execution_count": null,
   "metadata": {
    "collapsed": true
   },
   "outputs": [],
   "source": []
  }
 ],
 "metadata": {
  "anaconda-cloud": {},
  "kernelspec": {
   "display_name": "Python 3",
   "language": "python",
   "name": "python3"
  },
  "language_info": {
   "codemirror_mode": {
    "name": "ipython",
    "version": 3
   },
   "file_extension": ".py",
   "mimetype": "text/x-python",
   "name": "python",
   "nbconvert_exporter": "python",
   "pygments_lexer": "ipython3",
   "version": "3.6.0"
  }
 },
 "nbformat": 4,
 "nbformat_minor": 2
}
